{
  "nbformat": 4,
  "nbformat_minor": 0,
  "metadata": {
    "colab": {
      "provenance": [],
      "include_colab_link": true
    },
    "kernelspec": {
      "name": "python3",
      "display_name": "Python 3"
    },
    "language_info": {
      "name": "python"
    }
  },
  "cells": [
    {
      "cell_type": "markdown",
      "metadata": {
        "id": "view-in-github",
        "colab_type": "text"
      },
      "source": [
        "<a href=\"https://colab.research.google.com/github/ApatiaGimenez/TP-final-P.A/blob/main/tp2_Sistemas_de_recomendacion.ipynb\" target=\"_parent\"><img src=\"https://colab.research.google.com/assets/colab-badge.svg\" alt=\"Open In Colab\"/></a>"
      ]
    },
    {
      "cell_type": "markdown",
      "source": [
        "# Sistema de recomendación: **películas** 🍿📺"
      ],
      "metadata": {
        "id": "CUgA7xqblN5w"
      }
    },
    {
      "cell_type": "markdown",
      "source": [
        "## EDA"
      ],
      "metadata": {
        "id": "xyl3MKFOlk_R"
      }
    },
    {
      "cell_type": "code",
      "source": [
        "#Librerías\n",
        "import pandas as pd\n",
        "import numpy as np\n",
        "import ast\n",
        "import seaborn as sns\n",
        "import matplotlib.pyplot as plt\n",
        "import matplotlib.cm as cm\n",
        "import math\n",
        "from sklearn.model_selection import train_test_split\n",
        "from sklearn.metrics import r2_score"
      ],
      "metadata": {
        "id": "x-daKV07l04C"
      },
      "execution_count": null,
      "outputs": []
    },
    {
      "cell_type": "code",
      "source": [
        "users = pd.read_csv('ratings_small.csv')\n",
        "movies = pd.read_csv('movies_metadata.csv')"
      ],
      "metadata": {
        "colab": {
          "base_uri": "https://localhost:8080/"
        },
        "id": "VMP4EY74lnP9",
        "outputId": "52b0cea3-f777-4043-8769-e9f63b66188e"
      },
      "execution_count": null,
      "outputs": [
        {
          "output_type": "stream",
          "name": "stderr",
          "text": [
            "<ipython-input-3-23ba986cca28>:2: DtypeWarning: Columns (10) have mixed types. Specify dtype option on import or set low_memory=False.\n",
            "  movies = pd.read_csv('movies_metadata.csv')\n"
          ]
        }
      ]
    },
    {
      "cell_type": "code",
      "source": [
        "users.info()"
      ],
      "metadata": {
        "colab": {
          "base_uri": "https://localhost:8080/"
        },
        "id": "rE-ug7SWmCrn",
        "outputId": "bf62e298-45f9-4f63-d331-eac0cae2b8c6"
      },
      "execution_count": null,
      "outputs": [
        {
          "output_type": "stream",
          "name": "stdout",
          "text": [
            "<class 'pandas.core.frame.DataFrame'>\n",
            "RangeIndex: 100004 entries, 0 to 100003\n",
            "Data columns (total 4 columns):\n",
            " #   Column     Non-Null Count   Dtype  \n",
            "---  ------     --------------   -----  \n",
            " 0   userId     100004 non-null  int64  \n",
            " 1   movieId    100004 non-null  int64  \n",
            " 2   rating     100004 non-null  float64\n",
            " 3   timestamp  100004 non-null  int64  \n",
            "dtypes: float64(1), int64(3)\n",
            "memory usage: 3.1 MB\n"
          ]
        }
      ]
    },
    {
      "cell_type": "code",
      "source": [
        "movies.info()"
      ],
      "metadata": {
        "colab": {
          "base_uri": "https://localhost:8080/"
        },
        "id": "m-Afom6umE7k",
        "outputId": "bc201eea-e5fb-45d4-b23a-40e53c47538c"
      },
      "execution_count": null,
      "outputs": [
        {
          "output_type": "stream",
          "name": "stdout",
          "text": [
            "<class 'pandas.core.frame.DataFrame'>\n",
            "RangeIndex: 45466 entries, 0 to 45465\n",
            "Data columns (total 24 columns):\n",
            " #   Column                 Non-Null Count  Dtype  \n",
            "---  ------                 --------------  -----  \n",
            " 0   adult                  45466 non-null  object \n",
            " 1   belongs_to_collection  4494 non-null   object \n",
            " 2   budget                 45466 non-null  object \n",
            " 3   genres                 45466 non-null  object \n",
            " 4   homepage               7782 non-null   object \n",
            " 5   id                     45466 non-null  object \n",
            " 6   imdb_id                45449 non-null  object \n",
            " 7   original_language      45455 non-null  object \n",
            " 8   original_title         45466 non-null  object \n",
            " 9   overview               44512 non-null  object \n",
            " 10  popularity             45461 non-null  object \n",
            " 11  poster_path            45080 non-null  object \n",
            " 12  production_companies   45463 non-null  object \n",
            " 13  production_countries   45463 non-null  object \n",
            " 14  release_date           45379 non-null  object \n",
            " 15  revenue                45460 non-null  float64\n",
            " 16  runtime                45203 non-null  float64\n",
            " 17  spoken_languages       45460 non-null  object \n",
            " 18  status                 45379 non-null  object \n",
            " 19  tagline                20412 non-null  object \n",
            " 20  title                  45460 non-null  object \n",
            " 21  video                  45460 non-null  object \n",
            " 22  vote_average           45460 non-null  float64\n",
            " 23  vote_count             45460 non-null  float64\n",
            "dtypes: float64(4), object(20)\n",
            "memory usage: 8.3+ MB\n"
          ]
        }
      ]
    },
    {
      "cell_type": "code",
      "source": [
        "indices_a_eliminar = [19729, 29502, 35586, 19730, 29503, 35587]\n",
        "#los primeros tres índices corresponden a filas cuyo id es erróneo (formato fecha), y los últimos tres a películas sin título\n",
        "movies = movies.drop(indices_a_eliminar)"
      ],
      "metadata": {
        "id": "0NBfZhjJrNmr"
      },
      "execution_count": null,
      "outputs": []
    },
    {
      "cell_type": "code",
      "execution_count": null,
      "metadata": {
        "id": "ZwGEv6W_k5ym"
      },
      "outputs": [],
      "source": [
        "#Conversión de tipo de datos del dataset movies\n",
        "#int\n",
        "movies['id'] = movies['id'].astype(int)\n",
        "movies['budget'] = movies['budget'].astype(int)\n",
        "#float\n",
        "movies['popularity'] = movies['popularity'].astype(float)\n",
        "#string\n",
        "cadenas = ['original_language', 'original_title', 'overview', 'status', 'tagline', 'title']\n",
        "movies[cadenas] = movies[cadenas].astype(str)\n",
        "#date\n",
        "movies['release_date'] = pd.to_datetime(movies['release_date'])\n",
        "#bool\n",
        "booleanas = ['adult', 'video']\n",
        "movies[booleanas] = movies[booleanas].astype(bool)"
      ]
    },
    {
      "cell_type": "code",
      "source": [
        "#Función para convertir la lista de diccionarios a una cadena de géneros (para desglosar la columna \"genres\")\n",
        "def obtener_generos(lista_genres):\n",
        "    #Si la columna está en formato string, convertirla a lista de diccionarios\n",
        "    if isinstance(lista_genres, str):\n",
        "        lista_genres = ast.literal_eval(lista_genres)\n",
        "    #Obtener los nombres de los géneros\n",
        "    return ', '.join([gen['name'] for gen in lista_genres])\n",
        "movies['genres'] = movies['genres'].apply(obtener_generos)\n",
        "\n",
        "#Ídem pero para el país de producción. Solamente se obtiene la abreviación del país del diccionario\n",
        "def obtener_pais(lista_pais):\n",
        "    #Si la columna está en formato string, convertirla a lista de diccionarios\n",
        "    if isinstance(lista_pais, str):\n",
        "        lista_pais = ast.literal_eval(lista_pais)\n",
        "    #Obtener el código del país (iso_3166_1)\n",
        "    return lista_pais[0]['iso_3166_1'] if lista_pais else None\n",
        "movies['production_countries'] = movies['production_countries'].apply(obtener_pais)"
      ],
      "metadata": {
        "id": "2H6HXgJur4L5"
      },
      "execution_count": null,
      "outputs": []
    },
    {
      "cell_type": "code",
      "source": [
        "movies.head()"
      ],
      "metadata": {
        "colab": {
          "base_uri": "https://localhost:8080/",
          "height": 706
        },
        "id": "STwbOJJltNMD",
        "outputId": "ac17bdc0-e0e3-40e3-ff71-371483f3c8bb"
      },
      "execution_count": null,
      "outputs": [
        {
          "output_type": "execute_result",
          "data": {
            "text/plain": [
              "   adult                              belongs_to_collection    budget  \\\n",
              "0   True  {'id': 10194, 'name': 'Toy Story Collection', ...  30000000   \n",
              "1   True                                                NaN  65000000   \n",
              "2   True  {'id': 119050, 'name': 'Grumpy Old Men Collect...         0   \n",
              "3   True                                                NaN  16000000   \n",
              "4   True  {'id': 96871, 'name': 'Father of the Bride Col...         0   \n",
              "\n",
              "                       genres                              homepage     id  \\\n",
              "0   Animation, Comedy, Family  http://toystory.disney.com/toy-story    862   \n",
              "1  Adventure, Fantasy, Family                                   NaN   8844   \n",
              "2             Romance, Comedy                                   NaN  15602   \n",
              "3      Comedy, Drama, Romance                                   NaN  31357   \n",
              "4                      Comedy                                   NaN  11862   \n",
              "\n",
              "     imdb_id original_language               original_title  \\\n",
              "0  tt0114709                en                    Toy Story   \n",
              "1  tt0113497                en                      Jumanji   \n",
              "2  tt0113228                en             Grumpier Old Men   \n",
              "3  tt0114885                en            Waiting to Exhale   \n",
              "4  tt0113041                en  Father of the Bride Part II   \n",
              "\n",
              "                                            overview  ...  release_date  \\\n",
              "0  Led by Woody, Andy's toys live happily in his ...  ...    1995-10-30   \n",
              "1  When siblings Judy and Peter discover an encha...  ...    1995-12-15   \n",
              "2  A family wedding reignites the ancient feud be...  ...    1995-12-22   \n",
              "3  Cheated on, mistreated and stepped on, the wom...  ...    1995-12-22   \n",
              "4  Just when George Banks has recovered from his ...  ...    1995-02-10   \n",
              "\n",
              "       revenue runtime                                   spoken_languages  \\\n",
              "0  373554033.0    81.0           [{'iso_639_1': 'en', 'name': 'English'}]   \n",
              "1  262797249.0   104.0  [{'iso_639_1': 'en', 'name': 'English'}, {'iso...   \n",
              "2          0.0   101.0           [{'iso_639_1': 'en', 'name': 'English'}]   \n",
              "3   81452156.0   127.0           [{'iso_639_1': 'en', 'name': 'English'}]   \n",
              "4   76578911.0   106.0           [{'iso_639_1': 'en', 'name': 'English'}]   \n",
              "\n",
              "     status                                            tagline  \\\n",
              "0  Released                                                nan   \n",
              "1  Released          Roll the dice and unleash the excitement!   \n",
              "2  Released  Still Yelling. Still Fighting. Still Ready for...   \n",
              "3  Released  Friends are the people who let you be yourself...   \n",
              "4  Released  Just When His World Is Back To Normal... He's ...   \n",
              "\n",
              "                         title  video vote_average vote_count  \n",
              "0                    Toy Story  False          7.7     5415.0  \n",
              "1                      Jumanji  False          6.9     2413.0  \n",
              "2             Grumpier Old Men  False          6.5       92.0  \n",
              "3            Waiting to Exhale  False          6.1       34.0  \n",
              "4  Father of the Bride Part II  False          5.7      173.0  \n",
              "\n",
              "[5 rows x 24 columns]"
            ],
            "text/html": [
              "\n",
              "  <div id=\"df-6b11b8a3-71ce-4c2a-8c05-0608c1e55d13\" class=\"colab-df-container\">\n",
              "    <div>\n",
              "<style scoped>\n",
              "    .dataframe tbody tr th:only-of-type {\n",
              "        vertical-align: middle;\n",
              "    }\n",
              "\n",
              "    .dataframe tbody tr th {\n",
              "        vertical-align: top;\n",
              "    }\n",
              "\n",
              "    .dataframe thead th {\n",
              "        text-align: right;\n",
              "    }\n",
              "</style>\n",
              "<table border=\"1\" class=\"dataframe\">\n",
              "  <thead>\n",
              "    <tr style=\"text-align: right;\">\n",
              "      <th></th>\n",
              "      <th>adult</th>\n",
              "      <th>belongs_to_collection</th>\n",
              "      <th>budget</th>\n",
              "      <th>genres</th>\n",
              "      <th>homepage</th>\n",
              "      <th>id</th>\n",
              "      <th>imdb_id</th>\n",
              "      <th>original_language</th>\n",
              "      <th>original_title</th>\n",
              "      <th>overview</th>\n",
              "      <th>...</th>\n",
              "      <th>release_date</th>\n",
              "      <th>revenue</th>\n",
              "      <th>runtime</th>\n",
              "      <th>spoken_languages</th>\n",
              "      <th>status</th>\n",
              "      <th>tagline</th>\n",
              "      <th>title</th>\n",
              "      <th>video</th>\n",
              "      <th>vote_average</th>\n",
              "      <th>vote_count</th>\n",
              "    </tr>\n",
              "  </thead>\n",
              "  <tbody>\n",
              "    <tr>\n",
              "      <th>0</th>\n",
              "      <td>True</td>\n",
              "      <td>{'id': 10194, 'name': 'Toy Story Collection', ...</td>\n",
              "      <td>30000000</td>\n",
              "      <td>Animation, Comedy, Family</td>\n",
              "      <td>http://toystory.disney.com/toy-story</td>\n",
              "      <td>862</td>\n",
              "      <td>tt0114709</td>\n",
              "      <td>en</td>\n",
              "      <td>Toy Story</td>\n",
              "      <td>Led by Woody, Andy's toys live happily in his ...</td>\n",
              "      <td>...</td>\n",
              "      <td>1995-10-30</td>\n",
              "      <td>373554033.0</td>\n",
              "      <td>81.0</td>\n",
              "      <td>[{'iso_639_1': 'en', 'name': 'English'}]</td>\n",
              "      <td>Released</td>\n",
              "      <td>nan</td>\n",
              "      <td>Toy Story</td>\n",
              "      <td>False</td>\n",
              "      <td>7.7</td>\n",
              "      <td>5415.0</td>\n",
              "    </tr>\n",
              "    <tr>\n",
              "      <th>1</th>\n",
              "      <td>True</td>\n",
              "      <td>NaN</td>\n",
              "      <td>65000000</td>\n",
              "      <td>Adventure, Fantasy, Family</td>\n",
              "      <td>NaN</td>\n",
              "      <td>8844</td>\n",
              "      <td>tt0113497</td>\n",
              "      <td>en</td>\n",
              "      <td>Jumanji</td>\n",
              "      <td>When siblings Judy and Peter discover an encha...</td>\n",
              "      <td>...</td>\n",
              "      <td>1995-12-15</td>\n",
              "      <td>262797249.0</td>\n",
              "      <td>104.0</td>\n",
              "      <td>[{'iso_639_1': 'en', 'name': 'English'}, {'iso...</td>\n",
              "      <td>Released</td>\n",
              "      <td>Roll the dice and unleash the excitement!</td>\n",
              "      <td>Jumanji</td>\n",
              "      <td>False</td>\n",
              "      <td>6.9</td>\n",
              "      <td>2413.0</td>\n",
              "    </tr>\n",
              "    <tr>\n",
              "      <th>2</th>\n",
              "      <td>True</td>\n",
              "      <td>{'id': 119050, 'name': 'Grumpy Old Men Collect...</td>\n",
              "      <td>0</td>\n",
              "      <td>Romance, Comedy</td>\n",
              "      <td>NaN</td>\n",
              "      <td>15602</td>\n",
              "      <td>tt0113228</td>\n",
              "      <td>en</td>\n",
              "      <td>Grumpier Old Men</td>\n",
              "      <td>A family wedding reignites the ancient feud be...</td>\n",
              "      <td>...</td>\n",
              "      <td>1995-12-22</td>\n",
              "      <td>0.0</td>\n",
              "      <td>101.0</td>\n",
              "      <td>[{'iso_639_1': 'en', 'name': 'English'}]</td>\n",
              "      <td>Released</td>\n",
              "      <td>Still Yelling. Still Fighting. Still Ready for...</td>\n",
              "      <td>Grumpier Old Men</td>\n",
              "      <td>False</td>\n",
              "      <td>6.5</td>\n",
              "      <td>92.0</td>\n",
              "    </tr>\n",
              "    <tr>\n",
              "      <th>3</th>\n",
              "      <td>True</td>\n",
              "      <td>NaN</td>\n",
              "      <td>16000000</td>\n",
              "      <td>Comedy, Drama, Romance</td>\n",
              "      <td>NaN</td>\n",
              "      <td>31357</td>\n",
              "      <td>tt0114885</td>\n",
              "      <td>en</td>\n",
              "      <td>Waiting to Exhale</td>\n",
              "      <td>Cheated on, mistreated and stepped on, the wom...</td>\n",
              "      <td>...</td>\n",
              "      <td>1995-12-22</td>\n",
              "      <td>81452156.0</td>\n",
              "      <td>127.0</td>\n",
              "      <td>[{'iso_639_1': 'en', 'name': 'English'}]</td>\n",
              "      <td>Released</td>\n",
              "      <td>Friends are the people who let you be yourself...</td>\n",
              "      <td>Waiting to Exhale</td>\n",
              "      <td>False</td>\n",
              "      <td>6.1</td>\n",
              "      <td>34.0</td>\n",
              "    </tr>\n",
              "    <tr>\n",
              "      <th>4</th>\n",
              "      <td>True</td>\n",
              "      <td>{'id': 96871, 'name': 'Father of the Bride Col...</td>\n",
              "      <td>0</td>\n",
              "      <td>Comedy</td>\n",
              "      <td>NaN</td>\n",
              "      <td>11862</td>\n",
              "      <td>tt0113041</td>\n",
              "      <td>en</td>\n",
              "      <td>Father of the Bride Part II</td>\n",
              "      <td>Just when George Banks has recovered from his ...</td>\n",
              "      <td>...</td>\n",
              "      <td>1995-02-10</td>\n",
              "      <td>76578911.0</td>\n",
              "      <td>106.0</td>\n",
              "      <td>[{'iso_639_1': 'en', 'name': 'English'}]</td>\n",
              "      <td>Released</td>\n",
              "      <td>Just When His World Is Back To Normal... He's ...</td>\n",
              "      <td>Father of the Bride Part II</td>\n",
              "      <td>False</td>\n",
              "      <td>5.7</td>\n",
              "      <td>173.0</td>\n",
              "    </tr>\n",
              "  </tbody>\n",
              "</table>\n",
              "<p>5 rows × 24 columns</p>\n",
              "</div>\n",
              "    <div class=\"colab-df-buttons\">\n",
              "\n",
              "  <div class=\"colab-df-container\">\n",
              "    <button class=\"colab-df-convert\" onclick=\"convertToInteractive('df-6b11b8a3-71ce-4c2a-8c05-0608c1e55d13')\"\n",
              "            title=\"Convert this dataframe to an interactive table.\"\n",
              "            style=\"display:none;\">\n",
              "\n",
              "  <svg xmlns=\"http://www.w3.org/2000/svg\" height=\"24px\" viewBox=\"0 -960 960 960\">\n",
              "    <path d=\"M120-120v-720h720v720H120Zm60-500h600v-160H180v160Zm220 220h160v-160H400v160Zm0 220h160v-160H400v160ZM180-400h160v-160H180v160Zm440 0h160v-160H620v160ZM180-180h160v-160H180v160Zm440 0h160v-160H620v160Z\"/>\n",
              "  </svg>\n",
              "    </button>\n",
              "\n",
              "  <style>\n",
              "    .colab-df-container {\n",
              "      display:flex;\n",
              "      gap: 12px;\n",
              "    }\n",
              "\n",
              "    .colab-df-convert {\n",
              "      background-color: #E8F0FE;\n",
              "      border: none;\n",
              "      border-radius: 50%;\n",
              "      cursor: pointer;\n",
              "      display: none;\n",
              "      fill: #1967D2;\n",
              "      height: 32px;\n",
              "      padding: 0 0 0 0;\n",
              "      width: 32px;\n",
              "    }\n",
              "\n",
              "    .colab-df-convert:hover {\n",
              "      background-color: #E2EBFA;\n",
              "      box-shadow: 0px 1px 2px rgba(60, 64, 67, 0.3), 0px 1px 3px 1px rgba(60, 64, 67, 0.15);\n",
              "      fill: #174EA6;\n",
              "    }\n",
              "\n",
              "    .colab-df-buttons div {\n",
              "      margin-bottom: 4px;\n",
              "    }\n",
              "\n",
              "    [theme=dark] .colab-df-convert {\n",
              "      background-color: #3B4455;\n",
              "      fill: #D2E3FC;\n",
              "    }\n",
              "\n",
              "    [theme=dark] .colab-df-convert:hover {\n",
              "      background-color: #434B5C;\n",
              "      box-shadow: 0px 1px 3px 1px rgba(0, 0, 0, 0.15);\n",
              "      filter: drop-shadow(0px 1px 2px rgba(0, 0, 0, 0.3));\n",
              "      fill: #FFFFFF;\n",
              "    }\n",
              "  </style>\n",
              "\n",
              "    <script>\n",
              "      const buttonEl =\n",
              "        document.querySelector('#df-6b11b8a3-71ce-4c2a-8c05-0608c1e55d13 button.colab-df-convert');\n",
              "      buttonEl.style.display =\n",
              "        google.colab.kernel.accessAllowed ? 'block' : 'none';\n",
              "\n",
              "      async function convertToInteractive(key) {\n",
              "        const element = document.querySelector('#df-6b11b8a3-71ce-4c2a-8c05-0608c1e55d13');\n",
              "        const dataTable =\n",
              "          await google.colab.kernel.invokeFunction('convertToInteractive',\n",
              "                                                    [key], {});\n",
              "        if (!dataTable) return;\n",
              "\n",
              "        const docLinkHtml = 'Like what you see? Visit the ' +\n",
              "          '<a target=\"_blank\" href=https://colab.research.google.com/notebooks/data_table.ipynb>data table notebook</a>'\n",
              "          + ' to learn more about interactive tables.';\n",
              "        element.innerHTML = '';\n",
              "        dataTable['output_type'] = 'display_data';\n",
              "        await google.colab.output.renderOutput(dataTable, element);\n",
              "        const docLink = document.createElement('div');\n",
              "        docLink.innerHTML = docLinkHtml;\n",
              "        element.appendChild(docLink);\n",
              "      }\n",
              "    </script>\n",
              "  </div>\n",
              "\n",
              "\n",
              "<div id=\"df-acd8ec1c-1fff-4fe8-8952-9fd4098fa1d1\">\n",
              "  <button class=\"colab-df-quickchart\" onclick=\"quickchart('df-acd8ec1c-1fff-4fe8-8952-9fd4098fa1d1')\"\n",
              "            title=\"Suggest charts\"\n",
              "            style=\"display:none;\">\n",
              "\n",
              "<svg xmlns=\"http://www.w3.org/2000/svg\" height=\"24px\"viewBox=\"0 0 24 24\"\n",
              "     width=\"24px\">\n",
              "    <g>\n",
              "        <path d=\"M19 3H5c-1.1 0-2 .9-2 2v14c0 1.1.9 2 2 2h14c1.1 0 2-.9 2-2V5c0-1.1-.9-2-2-2zM9 17H7v-7h2v7zm4 0h-2V7h2v10zm4 0h-2v-4h2v4z\"/>\n",
              "    </g>\n",
              "</svg>\n",
              "  </button>\n",
              "\n",
              "<style>\n",
              "  .colab-df-quickchart {\n",
              "      --bg-color: #E8F0FE;\n",
              "      --fill-color: #1967D2;\n",
              "      --hover-bg-color: #E2EBFA;\n",
              "      --hover-fill-color: #174EA6;\n",
              "      --disabled-fill-color: #AAA;\n",
              "      --disabled-bg-color: #DDD;\n",
              "  }\n",
              "\n",
              "  [theme=dark] .colab-df-quickchart {\n",
              "      --bg-color: #3B4455;\n",
              "      --fill-color: #D2E3FC;\n",
              "      --hover-bg-color: #434B5C;\n",
              "      --hover-fill-color: #FFFFFF;\n",
              "      --disabled-bg-color: #3B4455;\n",
              "      --disabled-fill-color: #666;\n",
              "  }\n",
              "\n",
              "  .colab-df-quickchart {\n",
              "    background-color: var(--bg-color);\n",
              "    border: none;\n",
              "    border-radius: 50%;\n",
              "    cursor: pointer;\n",
              "    display: none;\n",
              "    fill: var(--fill-color);\n",
              "    height: 32px;\n",
              "    padding: 0;\n",
              "    width: 32px;\n",
              "  }\n",
              "\n",
              "  .colab-df-quickchart:hover {\n",
              "    background-color: var(--hover-bg-color);\n",
              "    box-shadow: 0 1px 2px rgba(60, 64, 67, 0.3), 0 1px 3px 1px rgba(60, 64, 67, 0.15);\n",
              "    fill: var(--button-hover-fill-color);\n",
              "  }\n",
              "\n",
              "  .colab-df-quickchart-complete:disabled,\n",
              "  .colab-df-quickchart-complete:disabled:hover {\n",
              "    background-color: var(--disabled-bg-color);\n",
              "    fill: var(--disabled-fill-color);\n",
              "    box-shadow: none;\n",
              "  }\n",
              "\n",
              "  .colab-df-spinner {\n",
              "    border: 2px solid var(--fill-color);\n",
              "    border-color: transparent;\n",
              "    border-bottom-color: var(--fill-color);\n",
              "    animation:\n",
              "      spin 1s steps(1) infinite;\n",
              "  }\n",
              "\n",
              "  @keyframes spin {\n",
              "    0% {\n",
              "      border-color: transparent;\n",
              "      border-bottom-color: var(--fill-color);\n",
              "      border-left-color: var(--fill-color);\n",
              "    }\n",
              "    20% {\n",
              "      border-color: transparent;\n",
              "      border-left-color: var(--fill-color);\n",
              "      border-top-color: var(--fill-color);\n",
              "    }\n",
              "    30% {\n",
              "      border-color: transparent;\n",
              "      border-left-color: var(--fill-color);\n",
              "      border-top-color: var(--fill-color);\n",
              "      border-right-color: var(--fill-color);\n",
              "    }\n",
              "    40% {\n",
              "      border-color: transparent;\n",
              "      border-right-color: var(--fill-color);\n",
              "      border-top-color: var(--fill-color);\n",
              "    }\n",
              "    60% {\n",
              "      border-color: transparent;\n",
              "      border-right-color: var(--fill-color);\n",
              "    }\n",
              "    80% {\n",
              "      border-color: transparent;\n",
              "      border-right-color: var(--fill-color);\n",
              "      border-bottom-color: var(--fill-color);\n",
              "    }\n",
              "    90% {\n",
              "      border-color: transparent;\n",
              "      border-bottom-color: var(--fill-color);\n",
              "    }\n",
              "  }\n",
              "</style>\n",
              "\n",
              "  <script>\n",
              "    async function quickchart(key) {\n",
              "      const quickchartButtonEl =\n",
              "        document.querySelector('#' + key + ' button');\n",
              "      quickchartButtonEl.disabled = true;  // To prevent multiple clicks.\n",
              "      quickchartButtonEl.classList.add('colab-df-spinner');\n",
              "      try {\n",
              "        const charts = await google.colab.kernel.invokeFunction(\n",
              "            'suggestCharts', [key], {});\n",
              "      } catch (error) {\n",
              "        console.error('Error during call to suggestCharts:', error);\n",
              "      }\n",
              "      quickchartButtonEl.classList.remove('colab-df-spinner');\n",
              "      quickchartButtonEl.classList.add('colab-df-quickchart-complete');\n",
              "    }\n",
              "    (() => {\n",
              "      let quickchartButtonEl =\n",
              "        document.querySelector('#df-acd8ec1c-1fff-4fe8-8952-9fd4098fa1d1 button');\n",
              "      quickchartButtonEl.style.display =\n",
              "        google.colab.kernel.accessAllowed ? 'block' : 'none';\n",
              "    })();\n",
              "  </script>\n",
              "</div>\n",
              "\n",
              "    </div>\n",
              "  </div>\n"
            ],
            "application/vnd.google.colaboratory.intrinsic+json": {
              "type": "dataframe",
              "variable_name": "movies"
            }
          },
          "metadata": {},
          "execution_count": 58
        }
      ]
    },
    {
      "cell_type": "code",
      "source": [
        "movies.info()"
      ],
      "metadata": {
        "colab": {
          "base_uri": "https://localhost:8080/"
        },
        "id": "vMYM_j50rwqJ",
        "outputId": "b72e3a6f-1acc-4551-b2b0-39f648fcbd3f"
      },
      "execution_count": null,
      "outputs": [
        {
          "output_type": "stream",
          "name": "stdout",
          "text": [
            "<class 'pandas.core.frame.DataFrame'>\n",
            "Index: 45460 entries, 0 to 45465\n",
            "Data columns (total 24 columns):\n",
            " #   Column                 Non-Null Count  Dtype         \n",
            "---  ------                 --------------  -----         \n",
            " 0   adult                  45460 non-null  bool          \n",
            " 1   belongs_to_collection  4490 non-null   object        \n",
            " 2   budget                 45460 non-null  int64         \n",
            " 3   genres                 45460 non-null  object        \n",
            " 4   homepage               7778 non-null   object        \n",
            " 5   id                     45460 non-null  int64         \n",
            " 6   imdb_id                45443 non-null  object        \n",
            " 7   original_language      45460 non-null  object        \n",
            " 8   original_title         45460 non-null  object        \n",
            " 9   overview               45460 non-null  object        \n",
            " 10  popularity             45460 non-null  float64       \n",
            " 11  poster_path            45077 non-null  object        \n",
            " 12  production_companies   45460 non-null  object        \n",
            " 13  production_countries   39178 non-null  object        \n",
            " 14  release_date           45376 non-null  datetime64[ns]\n",
            " 15  revenue                45460 non-null  float64       \n",
            " 16  runtime                45203 non-null  float64       \n",
            " 17  spoken_languages       45460 non-null  object        \n",
            " 18  status                 45460 non-null  object        \n",
            " 19  tagline                45460 non-null  object        \n",
            " 20  title                  45460 non-null  object        \n",
            " 21  video                  45460 non-null  bool          \n",
            " 22  vote_average           45460 non-null  float64       \n",
            " 23  vote_count             45460 non-null  float64       \n",
            "dtypes: bool(2), datetime64[ns](1), float64(5), int64(2), object(14)\n",
            "memory usage: 8.1+ MB\n"
          ]
        }
      ]
    },
    {
      "cell_type": "code",
      "source": [
        "#Dimensiones de los datasets\n",
        "print(f'users: {users.shape}')\n",
        "print(f'movies: {movies.shape}')"
      ],
      "metadata": {
        "colab": {
          "base_uri": "https://localhost:8080/"
        },
        "id": "1xr72_dGtdaD",
        "outputId": "75d65f3c-05bd-4a28-a53f-eddfa732eae6"
      },
      "execution_count": null,
      "outputs": [
        {
          "output_type": "stream",
          "name": "stdout",
          "text": [
            "users: (100004, 4)\n",
            "movies: (45460, 24)\n"
          ]
        }
      ]
    },
    {
      "cell_type": "markdown",
      "source": [
        "*   👤: El dataset **users** contiene 100.004 calificaciones de 700 (dato de Kaggle).\n",
        "*   🎞️: El dataset **movies** contiene información de 45460 películas."
      ],
      "metadata": {
        "id": "jBVgFIqntkYt"
      }
    },
    {
      "cell_type": "markdown",
      "source": [
        "### Valores nulos"
      ],
      "metadata": {
        "id": "m_5dZJW0vn1S"
      }
    },
    {
      "cell_type": "code",
      "source": [
        "#Análisis de NAs\n",
        "print('NAs en users')\n",
        "print(users.isnull().sum(), '\\n')\n",
        "print('NAs en movies')\n",
        "print(movies.isnull().sum())"
      ],
      "metadata": {
        "colab": {
          "base_uri": "https://localhost:8080/"
        },
        "id": "zEh3uxy6vniN",
        "outputId": "090f8193-cde0-4b42-95b1-a0140883eeda"
      },
      "execution_count": null,
      "outputs": [
        {
          "output_type": "stream",
          "name": "stdout",
          "text": [
            "NAs en users\n",
            "userId       0\n",
            "movieId      0\n",
            "rating       0\n",
            "timestamp    0\n",
            "dtype: int64 \n",
            "\n",
            "NAs en movies\n",
            "adult                        0\n",
            "belongs_to_collection    40970\n",
            "budget                       0\n",
            "genres                       0\n",
            "homepage                 37682\n",
            "id                           0\n",
            "imdb_id                     17\n",
            "original_language            0\n",
            "original_title               0\n",
            "overview                     0\n",
            "popularity                   0\n",
            "poster_path                383\n",
            "production_companies         0\n",
            "production_countries      6282\n",
            "release_date                84\n",
            "revenue                      0\n",
            "runtime                    257\n",
            "spoken_languages             0\n",
            "status                       0\n",
            "tagline                      0\n",
            "title                        0\n",
            "video                        0\n",
            "vote_average                 0\n",
            "vote_count                   0\n",
            "dtype: int64\n"
          ]
        }
      ]
    },
    {
      "cell_type": "code",
      "source": [
        "movies = movies.drop(columns=['belongs_to_collection', 'homepage', 'imdb_id', 'poster_path', 'video'])"
      ],
      "metadata": {
        "id": "K814FBZzxeGS"
      },
      "execution_count": null,
      "outputs": []
    },
    {
      "cell_type": "code",
      "source": [
        "users = users.drop(columns=['timestamp'])"
      ],
      "metadata": {
        "id": "6rLeDhr9y2vy"
      },
      "execution_count": null,
      "outputs": []
    },
    {
      "cell_type": "markdown",
      "source": [
        "### Valores atípicos"
      ],
      "metadata": {
        "id": "hrDBBdu0vrDw"
      }
    },
    {
      "cell_type": "code",
      "source": [
        "#Análisis de outliers\n",
        "\n",
        "#Boxplot para la columna 'rating' de useres\n",
        "plt.figure(figsize=(5, 3))\n",
        "sns.boxplot(x=users['rating'], color='#d42525')\n",
        "plt.title('Rating (users)')\n",
        "plt.show()\n",
        "\n",
        "#Boxplot para ciertas columnas de movies\n",
        "#budget\n",
        "plt.figure(figsize=(5, 3))\n",
        "sns.boxplot(x=movies['budget'], color='#d42525')\n",
        "plt.title('Presupuesto (movies)')\n",
        "plt.show()\n",
        "#popularity\n",
        "plt.figure(figsize=(5, 3))\n",
        "sns.boxplot(x=movies['popularity'], color='#d42525')\n",
        "plt.title('Popularidad (movies)')\n",
        "plt.show()\n",
        "#runtime\n",
        "plt.figure(figsize=(5, 3))\n",
        "sns.boxplot(x=movies['runtime'], color='#d42525')\n",
        "plt.title('Duración (movies)')\n",
        "plt.show()\n",
        "#vote_average\n",
        "plt.figure(figsize=(5, 3))\n",
        "sns.boxplot(x=movies['vote_average'], color='#d42525')\n",
        "plt.title('Promedio de calificaciones (movies)')\n",
        "plt.show()\n",
        "#vote_count\n",
        "plt.figure(figsize=(5, 3))\n",
        "sns.boxplot(x=movies['vote_count'], color='#d42525')\n",
        "plt.title('Cantidad de calificaciones (movies)')\n",
        "plt.show()"
      ],
      "metadata": {
        "colab": {
          "base_uri": "https://localhost:8080/",
          "height": 1000
        },
        "id": "yw-y0KZovuyK",
        "outputId": "a43d1055-f857-434a-fda9-2c4797ecdcfa"
      },
      "execution_count": null,
      "outputs": [
        {
          "output_type": "display_data",
          "data": {
            "text/plain": [
              "<Figure size 500x300 with 1 Axes>"
            ],
            "image/png": "[encoded data removed]"
          },
          "metadata": {}
        },
        {
          "output_type": "display_data",
          "data": {
            "text/plain": [
              "<Figure size 500x300 with 1 Axes>"
            ],
            "image/png": "[encoded data removed]"
          },
          "metadata": {}
        },
        {
          "output_type": "display_data",
          "data": {
            "text/plain": [
              "<Figure size 500x300 with 1 Axes>"
            ],
            "image/png": "[encoded data removed]"
          },
          "metadata": {}
        },
        {
          "output_type": "display_data",
          "data": {
            "text/plain": [
              "<Figure size 500x300 with 1 Axes>"
            ],
            "image/png": "[encoded data removed]"
          },
          "metadata": {}
        },
        {
          "output_type": "display_data",
          "data": {
            "text/plain": [
              "<Figure size 500x300 with 1 Axes>"
            ],
            "image/png": "[encoded data removed]"
          },
          "metadata": {}
        },
        {
          "output_type": "display_data",
          "data": {
            "text/plain": [
              "<Figure size 500x300 with 1 Axes>"
            ],
            "image/png": "[encoded data removed]"
          },
          "metadata": {}
        }
      ]
    },
    {
      "cell_type": "markdown",
      "source": [
        "**Cantidad de películas clasificadas por cada usuario**:"
      ],
      "metadata": {
        "id": "oyRs12ex2003"
      }
    },
    {
      "cell_type": "code",
      "source": [
        "#Cantidad de ratings por usuario\n",
        "ratings_count_users = users['userId'].value_counts()\n",
        "\n",
        "#Gráfico de barras\n",
        "plt.figure(figsize=(12, 6))\n",
        "ratings_count_users.plot(kind='bar',color='#d42525')\n",
        "plt.xlabel('User')\n",
        "plt.ylabel('Cantidad de clasificaciones')\n",
        "plt.title('Cantidad de clasificaciones por usario')\n",
        "n = 10\n",
        "plt.xticks(range(len(ratings_count_users))[::n], ratings_count_users.index[::n], rotation=90)\n",
        "plt.show()"
      ],
      "metadata": {
        "colab": {
          "base_uri": "https://localhost:8080/",
          "height": 487
        },
        "id": "VBBW72pw26NH",
        "outputId": "84167c93-d3b6-4b32-b415-73e02a9a80f7"
      },
      "execution_count": null,
      "outputs": [
        {
          "output_type": "display_data",
          "data": {
            "text/plain": [
              "<Figure size 1200x600 with 1 Axes>"
            ],
            "image/png": "[encoded data removed]"
          },
          "metadata": {}
        }
      ]
    },
    {
      "cell_type": "markdown",
      "source": [
        "**Top 10 películas con la clasificación más alta:**"
      ],
      "metadata": {
        "id": "yo_fLaQH4Spc"
      }
    },
    {
      "cell_type": "code",
      "source": [
        "#Agrupar por movieId y calcular el promedio de puntuaciones\n",
        "movie_avg_ratings = users.groupby('movieId')['rating'].mean().sort_values(ascending=False).head(10)\n",
        "\n",
        "#Gráfico de barras\n",
        "plt.figure(figsize=(8, 4))\n",
        "sns.barplot(x=movie_avg_ratings.index, y=movie_avg_ratings.values, color='#d42525')\n",
        "plt.xlabel('Película')\n",
        "plt.ylabel('Calsificación promedio')\n",
        "plt.title('Top 10 películas por clasificación promedio')\n",
        "plt.show()"
      ],
      "metadata": {
        "colab": {
          "base_uri": "https://localhost:8080/",
          "height": 411
        },
        "id": "tCc1-jIDlkDt",
        "outputId": "bedcc854-19b5-45c7-d6db-e41de7c19a89"
      },
      "execution_count": null,
      "outputs": [
        {
          "output_type": "display_data",
          "data": {
            "text/plain": [
              "<Figure size 800x400 with 1 Axes>"
            ],
            "image/png": "[encoded data removed]"
          },
          "metadata": {}
        }
      ]
    },
    {
      "cell_type": "markdown",
      "source": [
        "Puede que tengan average 5 porque fueron clasificadas una sola vez."
      ],
      "metadata": {
        "id": "akwbYucs72zn"
      }
    },
    {
      "cell_type": "markdown",
      "source": [
        "**Películas clasificadas v.s. usuarios:**"
      ],
      "metadata": {
        "id": "Ooni-Ua_8hm9"
      }
    },
    {
      "cell_type": "code",
      "source": [
        "#Cantidad de películas clasificadas por cada usuario\n",
        "user_rating_counts = users['userId'].value_counts().head(10)\n",
        "\n",
        "#Cantidad de usuarios que clasificaron cada película\n",
        "movie_rating_counts = users['movieId'].value_counts().head(10)\n",
        "\n",
        "#Gráfico de barras para los usuarios\n",
        "plt.figure(figsize=(8, 4))\n",
        "sns.barplot(x=user_rating_counts.index, y=user_rating_counts.values, color='#d42525')\n",
        "plt.xlabel('User')\n",
        "plt.ylabel('Cantidad de clasificaciones')\n",
        "plt.title('Top 10 usuarios por cantidad de clasificaciones')\n",
        "plt.show()\n",
        "\n",
        "#Gráfico de barras para las películas\n",
        "plt.figure(figsize=(8, 4))\n",
        "sns.barplot(x=movie_rating_counts.index, y=movie_rating_counts.values, color='#d42525')\n",
        "plt.xlabel('Película')\n",
        "plt.ylabel('Cantidad de clasificaciones')\n",
        "plt.title('Top 10 películas por cantidad de clasificaciones')\n",
        "plt.show()"
      ],
      "metadata": {
        "colab": {
          "base_uri": "https://localhost:8080/",
          "height": 804
        },
        "id": "lzE4nB_d8h9f",
        "outputId": "c08afeba-5c2d-4b46-a7d5-01802e3b116b"
      },
      "execution_count": null,
      "outputs": [
        {
          "output_type": "display_data",
          "data": {
            "text/plain": [
              "<Figure size 800x400 with 1 Axes>"
            ],
            "image/png": "[encoded data removed]"
          },
          "metadata": {}
        },
        {
          "output_type": "display_data",
          "data": {
            "text/plain": [
              "<Figure size 800x400 with 1 Axes>"
            ],
            "image/png": "[encoded data removed]"
          },
          "metadata": {}
        }
      ]
    },
    {
      "cell_type": "markdown",
      "source": [
        "**Top 10 agrupación de géneros:**"
      ],
      "metadata": {
        "id": "XcaUXifJB5RJ"
      }
    },
    {
      "cell_type": "code",
      "source": [
        "#Contar películas por género\n",
        "genre_counts = movies['genres'].value_counts()\n",
        "\n",
        "#Seleccionar los 10 géneros más populares\n",
        "top_genres = genre_counts.head(10)\n",
        "\n",
        "#Gráfico de barras\n",
        "plt.figure(figsize=(10, 6))\n",
        "top_genres.plot(kind='bar', color='#d42525')\n",
        "plt.title('Top 10 géneros más populares')\n",
        "plt.xlabel('Género')\n",
        "plt.ylabel('Cantidad de películas')\n",
        "plt.xticks(rotation=45)\n",
        "plt.grid(axis='y', linestyle='--', alpha=0.7)\n",
        "plt.tight_layout()\n",
        "plt.show()"
      ],
      "metadata": {
        "colab": {
          "base_uri": "https://localhost:8080/",
          "height": 531
        },
        "id": "7FXkC5noB46b",
        "outputId": "99fb45d4-d46f-4842-c4fb-8207de342944"
      },
      "execution_count": null,
      "outputs": [
        {
          "output_type": "display_data",
          "data": {
            "text/plain": [
              "<Figure size 1000x600 with 1 Axes>"
            ],
            "image/png": "[encoded data removed]"
          },
          "metadata": {}
        }
      ]
    },
    {
      "cell_type": "markdown",
      "source": [
        "## Filtros colaborativos"
      ],
      "metadata": {
        "id": "SwgLDsAbldmX"
      }
    },
    {
      "cell_type": "code",
      "source": [
        "data = {}\n",
        "\n",
        "for _, row in users.iterrows():\n",
        "    user = row['userId']\n",
        "    movie = row['movieId']\n",
        "    rating = row['rating']\n",
        "\n",
        "    if user not in data:\n",
        "        data[user] = {}\n",
        "\n",
        "    data[user][movie] = rating"
      ],
      "metadata": {
        "id": "GGuW83TM3nOY"
      },
      "execution_count": null,
      "outputs": []
    },
    {
      "cell_type": "code",
      "source": [
        "df_data=pd.DataFrame(data).transpose()\n",
        "df_data"
      ],
      "metadata": {
        "colab": {
          "base_uri": "https://localhost:8080/",
          "height": 443
        },
        "collapsed": true,
        "id": "T50A2Wgf3so-",
        "outputId": "62848e14-83dc-4a38-ed5c-903c7c422639"
      },
      "execution_count": null,
      "outputs": [
        {
          "output_type": "execute_result",
          "data": {
            "text/plain": [
              "       31.0      1029.0    1061.0    1129.0    1172.0    1263.0    1287.0    \\\n",
              "1.0         2.5       3.0       3.0       2.0       4.0       2.0       2.0   \n",
              "2.0         NaN       NaN       NaN       NaN       NaN       NaN       NaN   \n",
              "3.0         NaN       NaN       NaN       NaN       NaN       NaN       NaN   \n",
              "4.0         NaN       NaN       NaN       NaN       NaN       NaN       NaN   \n",
              "5.0         NaN       NaN       NaN       NaN       NaN       NaN       NaN   \n",
              "...         ...       ...       ...       ...       ...       ...       ...   \n",
              "667.0       NaN       NaN       NaN       NaN       NaN       NaN       NaN   \n",
              "668.0       NaN       NaN       NaN       NaN       NaN       NaN       NaN   \n",
              "669.0       NaN       NaN       NaN       NaN       NaN       NaN       NaN   \n",
              "670.0       NaN       NaN       NaN       NaN       NaN       NaN       NaN   \n",
              "671.0       NaN       NaN       NaN       NaN       NaN       NaN       NaN   \n",
              "\n",
              "       1293.0    1339.0    1343.0    ...  134528.0  134783.0  137595.0  \\\n",
              "1.0         2.0       3.5       2.0  ...       NaN       NaN       NaN   \n",
              "2.0         NaN       NaN       NaN  ...       NaN       NaN       NaN   \n",
              "3.0         NaN       NaN       NaN  ...       NaN       NaN       NaN   \n",
              "4.0         NaN       NaN       NaN  ...       NaN       NaN       NaN   \n",
              "5.0         NaN       NaN       NaN  ...       NaN       NaN       NaN   \n",
              "...         ...       ...       ...  ...       ...       ...       ...   \n",
              "667.0       NaN       NaN       NaN  ...       NaN       NaN       NaN   \n",
              "668.0       NaN       NaN       NaN  ...       NaN       NaN       NaN   \n",
              "669.0       NaN       NaN       NaN  ...       NaN       NaN       NaN   \n",
              "670.0       NaN       NaN       NaN  ...       NaN       NaN       NaN   \n",
              "671.0       NaN       NaN       NaN  ...       NaN       NaN       NaN   \n",
              "\n",
              "       138204.0  60832.0   64997.0   72380.0   129.0     4736.0    6425.0    \n",
              "1.0         NaN       NaN       NaN       NaN       NaN       NaN       NaN  \n",
              "2.0         NaN       NaN       NaN       NaN       NaN       NaN       NaN  \n",
              "3.0         NaN       NaN       NaN       NaN       NaN       NaN       NaN  \n",
              "4.0         NaN       NaN       NaN       NaN       NaN       NaN       NaN  \n",
              "5.0         NaN       NaN       NaN       NaN       NaN       NaN       NaN  \n",
              "...         ...       ...       ...       ...       ...       ...       ...  \n",
              "667.0       NaN       NaN       NaN       NaN       NaN       NaN       NaN  \n",
              "668.0       NaN       NaN       NaN       NaN       NaN       NaN       1.0  \n",
              "669.0       NaN       NaN       NaN       NaN       NaN       NaN       NaN  \n",
              "670.0       NaN       NaN       NaN       NaN       NaN       NaN       NaN  \n",
              "671.0       NaN       NaN       NaN       NaN       NaN       NaN       NaN  \n",
              "\n",
              "[671 rows x 9066 columns]"
            ],
            "text/html": [
              "\n",
              "  <div id=\"df-d6c5873a-fe4f-4167-9858-403b82cbd65f\" class=\"colab-df-container\">\n",
              "    <div>\n",
              "<style scoped>\n",
              "    .dataframe tbody tr th:only-of-type {\n",
              "        vertical-align: middle;\n",
              "    }\n",
              "\n",
              "    .dataframe tbody tr th {\n",
              "        vertical-align: top;\n",
              "    }\n",
              "\n",
              "    .dataframe thead th {\n",
              "        text-align: right;\n",
              "    }\n",
              "</style>\n",
              "<table border=\"1\" class=\"dataframe\">\n",
              "  <thead>\n",
              "    <tr style=\"text-align: right;\">\n",
              "      <th></th>\n",
              "      <th>31.0</th>\n",
              "      <th>1029.0</th>\n",
              "      <th>1061.0</th>\n",
              "      <th>1129.0</th>\n",
              "      <th>1172.0</th>\n",
              "      <th>1263.0</th>\n",
              "      <th>1287.0</th>\n",
              "      <th>1293.0</th>\n",
              "      <th>1339.0</th>\n",
              "      <th>1343.0</th>\n",
              "      <th>...</th>\n",
              "      <th>134528.0</th>\n",
              "      <th>134783.0</th>\n",
              "      <th>137595.0</th>\n",
              "      <th>138204.0</th>\n",
              "      <th>60832.0</th>\n",
              "      <th>64997.0</th>\n",
              "      <th>72380.0</th>\n",
              "      <th>129.0</th>\n",
              "      <th>4736.0</th>\n",
              "      <th>6425.0</th>\n",
              "    </tr>\n",
              "  </thead>\n",
              "  <tbody>\n",
              "    <tr>\n",
              "      <th>1.0</th>\n",
              "      <td>2.5</td>\n",
              "      <td>3.0</td>\n",
              "      <td>3.0</td>\n",
              "      <td>2.0</td>\n",
              "      <td>4.0</td>\n",
              "      <td>2.0</td>\n",
              "      <td>2.0</td>\n",
              "      <td>2.0</td>\n",
              "      <td>3.5</td>\n",
              "      <td>2.0</td>\n",
              "      <td>...</td>\n",
              "      <td>NaN</td>\n",
              "      <td>NaN</td>\n",
              "      <td>NaN</td>\n",
              "      <td>NaN</td>\n",
              "      <td>NaN</td>\n",
              "      <td>NaN</td>\n",
              "      <td>NaN</td>\n",
              "      <td>NaN</td>\n",
              "      <td>NaN</td>\n",
              "      <td>NaN</td>\n",
              "    </tr>\n",
              "    <tr>\n",
              "      <th>2.0</th>\n",
              "      <td>NaN</td>\n",
              "      <td>NaN</td>\n",
              "      <td>NaN</td>\n",
              "      <td>NaN</td>\n",
              "      <td>NaN</td>\n",
              "      <td>NaN</td>\n",
              "      <td>NaN</td>\n",
              "      <td>NaN</td>\n",
              "      <td>NaN</td>\n",
              "      <td>NaN</td>\n",
              "      <td>...</td>\n",
              "      <td>NaN</td>\n",
              "      <td>NaN</td>\n",
              "      <td>NaN</td>\n",
              "      <td>NaN</td>\n",
              "      <td>NaN</td>\n",
              "      <td>NaN</td>\n",
              "      <td>NaN</td>\n",
              "      <td>NaN</td>\n",
              "      <td>NaN</td>\n",
              "      <td>NaN</td>\n",
              "    </tr>\n",
              "    <tr>\n",
              "      <th>3.0</th>\n",
              "      <td>NaN</td>\n",
              "      <td>NaN</td>\n",
              "      <td>NaN</td>\n",
              "      <td>NaN</td>\n",
              "      <td>NaN</td>\n",
              "      <td>NaN</td>\n",
              "      <td>NaN</td>\n",
              "      <td>NaN</td>\n",
              "      <td>NaN</td>\n",
              "      <td>NaN</td>\n",
              "      <td>...</td>\n",
              "      <td>NaN</td>\n",
              "      <td>NaN</td>\n",
              "      <td>NaN</td>\n",
              "      <td>NaN</td>\n",
              "      <td>NaN</td>\n",
              "      <td>NaN</td>\n",
              "      <td>NaN</td>\n",
              "      <td>NaN</td>\n",
              "      <td>NaN</td>\n",
              "      <td>NaN</td>\n",
              "    </tr>\n",
              "    <tr>\n",
              "      <th>4.0</th>\n",
              "      <td>NaN</td>\n",
              "      <td>NaN</td>\n",
              "      <td>NaN</td>\n",
              "      <td>NaN</td>\n",
              "      <td>NaN</td>\n",
              "      <td>NaN</td>\n",
              "      <td>NaN</td>\n",
              "      <td>NaN</td>\n",
              "      <td>NaN</td>\n",
              "      <td>NaN</td>\n",
              "      <td>...</td>\n",
              "      <td>NaN</td>\n",
              "      <td>NaN</td>\n",
              "      <td>NaN</td>\n",
              "      <td>NaN</td>\n",
              "      <td>NaN</td>\n",
              "      <td>NaN</td>\n",
              "      <td>NaN</td>\n",
              "      <td>NaN</td>\n",
              "      <td>NaN</td>\n",
              "      <td>NaN</td>\n",
              "    </tr>\n",
              "    <tr>\n",
              "      <th>5.0</th>\n",
              "      <td>NaN</td>\n",
              "      <td>NaN</td>\n",
              "      <td>NaN</td>\n",
              "      <td>NaN</td>\n",
              "      <td>NaN</td>\n",
              "      <td>NaN</td>\n",
              "      <td>NaN</td>\n",
              "      <td>NaN</td>\n",
              "      <td>NaN</td>\n",
              "      <td>NaN</td>\n",
              "      <td>...</td>\n",
              "      <td>NaN</td>\n",
              "      <td>NaN</td>\n",
              "      <td>NaN</td>\n",
              "      <td>NaN</td>\n",
              "      <td>NaN</td>\n",
              "      <td>NaN</td>\n",
              "      <td>NaN</td>\n",
              "      <td>NaN</td>\n",
              "      <td>NaN</td>\n",
              "      <td>NaN</td>\n",
              "    </tr>\n",
              "    <tr>\n",
              "      <th>...</th>\n",
              "      <td>...</td>\n",
              "      <td>...</td>\n",
              "      <td>...</td>\n",
              "      <td>...</td>\n",
              "      <td>...</td>\n",
              "      <td>...</td>\n",
              "      <td>...</td>\n",
              "      <td>...</td>\n",
              "      <td>...</td>\n",
              "      <td>...</td>\n",
              "      <td>...</td>\n",
              "      <td>...</td>\n",
              "      <td>...</td>\n",
              "      <td>...</td>\n",
              "      <td>...</td>\n",
              "      <td>...</td>\n",
              "      <td>...</td>\n",
              "      <td>...</td>\n",
              "      <td>...</td>\n",
              "      <td>...</td>\n",
              "      <td>...</td>\n",
              "    </tr>\n",
              "    <tr>\n",
              "      <th>667.0</th>\n",
              "      <td>NaN</td>\n",
              "      <td>NaN</td>\n",
              "      <td>NaN</td>\n",
              "      <td>NaN</td>\n",
              "      <td>NaN</td>\n",
              "      <td>NaN</td>\n",
              "      <td>NaN</td>\n",
              "      <td>NaN</td>\n",
              "      <td>NaN</td>\n",
              "      <td>NaN</td>\n",
              "      <td>...</td>\n",
              "      <td>NaN</td>\n",
              "      <td>NaN</td>\n",
              "      <td>NaN</td>\n",
              "      <td>NaN</td>\n",
              "      <td>NaN</td>\n",
              "      <td>NaN</td>\n",
              "      <td>NaN</td>\n",
              "      <td>NaN</td>\n",
              "      <td>NaN</td>\n",
              "      <td>NaN</td>\n",
              "    </tr>\n",
              "    <tr>\n",
              "      <th>668.0</th>\n",
              "      <td>NaN</td>\n",
              "      <td>NaN</td>\n",
              "      <td>NaN</td>\n",
              "      <td>NaN</td>\n",
              "      <td>NaN</td>\n",
              "      <td>NaN</td>\n",
              "      <td>NaN</td>\n",
              "      <td>NaN</td>\n",
              "      <td>NaN</td>\n",
              "      <td>NaN</td>\n",
              "      <td>...</td>\n",
              "      <td>NaN</td>\n",
              "      <td>NaN</td>\n",
              "      <td>NaN</td>\n",
              "      <td>NaN</td>\n",
              "      <td>NaN</td>\n",
              "      <td>NaN</td>\n",
              "      <td>NaN</td>\n",
              "      <td>NaN</td>\n",
              "      <td>NaN</td>\n",
              "      <td>1.0</td>\n",
              "    </tr>\n",
              "    <tr>\n",
              "      <th>669.0</th>\n",
              "      <td>NaN</td>\n",
              "      <td>NaN</td>\n",
              "      <td>NaN</td>\n",
              "      <td>NaN</td>\n",
              "      <td>NaN</td>\n",
              "      <td>NaN</td>\n",
              "      <td>NaN</td>\n",
              "      <td>NaN</td>\n",
              "      <td>NaN</td>\n",
              "      <td>NaN</td>\n",
              "      <td>...</td>\n",
              "      <td>NaN</td>\n",
              "      <td>NaN</td>\n",
              "      <td>NaN</td>\n",
              "      <td>NaN</td>\n",
              "      <td>NaN</td>\n",
              "      <td>NaN</td>\n",
              "      <td>NaN</td>\n",
              "      <td>NaN</td>\n",
              "      <td>NaN</td>\n",
              "      <td>NaN</td>\n",
              "    </tr>\n",
              "    <tr>\n",
              "      <th>670.0</th>\n",
              "      <td>NaN</td>\n",
              "      <td>NaN</td>\n",
              "      <td>NaN</td>\n",
              "      <td>NaN</td>\n",
              "      <td>NaN</td>\n",
              "      <td>NaN</td>\n",
              "      <td>NaN</td>\n",
              "      <td>NaN</td>\n",
              "      <td>NaN</td>\n",
              "      <td>NaN</td>\n",
              "      <td>...</td>\n",
              "      <td>NaN</td>\n",
              "      <td>NaN</td>\n",
              "      <td>NaN</td>\n",
              "      <td>NaN</td>\n",
              "      <td>NaN</td>\n",
              "      <td>NaN</td>\n",
              "      <td>NaN</td>\n",
              "      <td>NaN</td>\n",
              "      <td>NaN</td>\n",
              "      <td>NaN</td>\n",
              "    </tr>\n",
              "    <tr>\n",
              "      <th>671.0</th>\n",
              "      <td>NaN</td>\n",
              "      <td>NaN</td>\n",
              "      <td>NaN</td>\n",
              "      <td>NaN</td>\n",
              "      <td>NaN</td>\n",
              "      <td>NaN</td>\n",
              "      <td>NaN</td>\n",
              "      <td>NaN</td>\n",
              "      <td>NaN</td>\n",
              "      <td>NaN</td>\n",
              "      <td>...</td>\n",
              "      <td>NaN</td>\n",
              "      <td>NaN</td>\n",
              "      <td>NaN</td>\n",
              "      <td>NaN</td>\n",
              "      <td>NaN</td>\n",
              "      <td>NaN</td>\n",
              "      <td>NaN</td>\n",
              "      <td>NaN</td>\n",
              "      <td>NaN</td>\n",
              "      <td>NaN</td>\n",
              "    </tr>\n",
              "  </tbody>\n",
              "</table>\n",
              "<p>671 rows × 9066 columns</p>\n",
              "</div>\n",
              "    <div class=\"colab-df-buttons\">\n",
              "\n",
              "  <div class=\"colab-df-container\">\n",
              "    <button class=\"colab-df-convert\" onclick=\"convertToInteractive('df-d6c5873a-fe4f-4167-9858-403b82cbd65f')\"\n",
              "            title=\"Convert this dataframe to an interactive table.\"\n",
              "            style=\"display:none;\">\n",
              "\n",
              "  <svg xmlns=\"http://www.w3.org/2000/svg\" height=\"24px\" viewBox=\"0 -960 960 960\">\n",
              "    <path d=\"M120-120v-720h720v720H120Zm60-500h600v-160H180v160Zm220 220h160v-160H400v160Zm0 220h160v-160H400v160ZM180-400h160v-160H180v160Zm440 0h160v-160H620v160ZM180-180h160v-160H180v160Zm440 0h160v-160H620v160Z\"/>\n",
              "  </svg>\n",
              "    </button>\n",
              "\n",
              "  <style>\n",
              "    .colab-df-container {\n",
              "      display:flex;\n",
              "      gap: 12px;\n",
              "    }\n",
              "\n",
              "    .colab-df-convert {\n",
              "      background-color: #E8F0FE;\n",
              "      border: none;\n",
              "      border-radius: 50%;\n",
              "      cursor: pointer;\n",
              "      display: none;\n",
              "      fill: #1967D2;\n",
              "      height: 32px;\n",
              "      padding: 0 0 0 0;\n",
              "      width: 32px;\n",
              "    }\n",
              "\n",
              "    .colab-df-convert:hover {\n",
              "      background-color: #E2EBFA;\n",
              "      box-shadow: 0px 1px 2px rgba(60, 64, 67, 0.3), 0px 1px 3px 1px rgba(60, 64, 67, 0.15);\n",
              "      fill: #174EA6;\n",
              "    }\n",
              "\n",
              "    .colab-df-buttons div {\n",
              "      margin-bottom: 4px;\n",
              "    }\n",
              "\n",
              "    [theme=dark] .colab-df-convert {\n",
              "      background-color: #3B4455;\n",
              "      fill: #D2E3FC;\n",
              "    }\n",
              "\n",
              "    [theme=dark] .colab-df-convert:hover {\n",
              "      background-color: #434B5C;\n",
              "      box-shadow: 0px 1px 3px 1px rgba(0, 0, 0, 0.15);\n",
              "      filter: drop-shadow(0px 1px 2px rgba(0, 0, 0, 0.3));\n",
              "      fill: #FFFFFF;\n",
              "    }\n",
              "  </style>\n",
              "\n",
              "    <script>\n",
              "      const buttonEl =\n",
              "        document.querySelector('#df-d6c5873a-fe4f-4167-9858-403b82cbd65f button.colab-df-convert');\n",
              "      buttonEl.style.display =\n",
              "        google.colab.kernel.accessAllowed ? 'block' : 'none';\n",
              "\n",
              "      async function convertToInteractive(key) {\n",
              "        const element = document.querySelector('#df-d6c5873a-fe4f-4167-9858-403b82cbd65f');\n",
              "        const dataTable =\n",
              "          await google.colab.kernel.invokeFunction('convertToInteractive',\n",
              "                                                    [key], {});\n",
              "        if (!dataTable) return;\n",
              "\n",
              "        const docLinkHtml = 'Like what you see? Visit the ' +\n",
              "          '<a target=\"_blank\" href=https://colab.research.google.com/notebooks/data_table.ipynb>data table notebook</a>'\n",
              "          + ' to learn more about interactive tables.';\n",
              "        element.innerHTML = '';\n",
              "        dataTable['output_type'] = 'display_data';\n",
              "        await google.colab.output.renderOutput(dataTable, element);\n",
              "        const docLink = document.createElement('div');\n",
              "        docLink.innerHTML = docLinkHtml;\n",
              "        element.appendChild(docLink);\n",
              "      }\n",
              "    </script>\n",
              "  </div>\n",
              "\n",
              "\n",
              "<div id=\"df-55c27e37-41f0-41df-a378-d1e2ddc9d6c1\">\n",
              "  <button class=\"colab-df-quickchart\" onclick=\"quickchart('df-55c27e37-41f0-41df-a378-d1e2ddc9d6c1')\"\n",
              "            title=\"Suggest charts\"\n",
              "            style=\"display:none;\">\n",
              "\n",
              "<svg xmlns=\"http://www.w3.org/2000/svg\" height=\"24px\"viewBox=\"0 0 24 24\"\n",
              "     width=\"24px\">\n",
              "    <g>\n",
              "        <path d=\"M19 3H5c-1.1 0-2 .9-2 2v14c0 1.1.9 2 2 2h14c1.1 0 2-.9 2-2V5c0-1.1-.9-2-2-2zM9 17H7v-7h2v7zm4 0h-2V7h2v10zm4 0h-2v-4h2v4z\"/>\n",
              "    </g>\n",
              "</svg>\n",
              "  </button>\n",
              "\n",
              "<style>\n",
              "  .colab-df-quickchart {\n",
              "      --bg-color: #E8F0FE;\n",
              "      --fill-color: #1967D2;\n",
              "      --hover-bg-color: #E2EBFA;\n",
              "      --hover-fill-color: #174EA6;\n",
              "      --disabled-fill-color: #AAA;\n",
              "      --disabled-bg-color: #DDD;\n",
              "  }\n",
              "\n",
              "  [theme=dark] .colab-df-quickchart {\n",
              "      --bg-color: #3B4455;\n",
              "      --fill-color: #D2E3FC;\n",
              "      --hover-bg-color: #434B5C;\n",
              "      --hover-fill-color: #FFFFFF;\n",
              "      --disabled-bg-color: #3B4455;\n",
              "      --disabled-fill-color: #666;\n",
              "  }\n",
              "\n",
              "  .colab-df-quickchart {\n",
              "    background-color: var(--bg-color);\n",
              "    border: none;\n",
              "    border-radius: 50%;\n",
              "    cursor: pointer;\n",
              "    display: none;\n",
              "    fill: var(--fill-color);\n",
              "    height: 32px;\n",
              "    padding: 0;\n",
              "    width: 32px;\n",
              "  }\n",
              "\n",
              "  .colab-df-quickchart:hover {\n",
              "    background-color: var(--hover-bg-color);\n",
              "    box-shadow: 0 1px 2px rgba(60, 64, 67, 0.3), 0 1px 3px 1px rgba(60, 64, 67, 0.15);\n",
              "    fill: var(--button-hover-fill-color);\n",
              "  }\n",
              "\n",
              "  .colab-df-quickchart-complete:disabled,\n",
              "  .colab-df-quickchart-complete:disabled:hover {\n",
              "    background-color: var(--disabled-bg-color);\n",
              "    fill: var(--disabled-fill-color);\n",
              "    box-shadow: none;\n",
              "  }\n",
              "\n",
              "  .colab-df-spinner {\n",
              "    border: 2px solid var(--fill-color);\n",
              "    border-color: transparent;\n",
              "    border-bottom-color: var(--fill-color);\n",
              "    animation:\n",
              "      spin 1s steps(1) infinite;\n",
              "  }\n",
              "\n",
              "  @keyframes spin {\n",
              "    0% {\n",
              "      border-color: transparent;\n",
              "      border-bottom-color: var(--fill-color);\n",
              "      border-left-color: var(--fill-color);\n",
              "    }\n",
              "    20% {\n",
              "      border-color: transparent;\n",
              "      border-left-color: var(--fill-color);\n",
              "      border-top-color: var(--fill-color);\n",
              "    }\n",
              "    30% {\n",
              "      border-color: transparent;\n",
              "      border-left-color: var(--fill-color);\n",
              "      border-top-color: var(--fill-color);\n",
              "      border-right-color: var(--fill-color);\n",
              "    }\n",
              "    40% {\n",
              "      border-color: transparent;\n",
              "      border-right-color: var(--fill-color);\n",
              "      border-top-color: var(--fill-color);\n",
              "    }\n",
              "    60% {\n",
              "      border-color: transparent;\n",
              "      border-right-color: var(--fill-color);\n",
              "    }\n",
              "    80% {\n",
              "      border-color: transparent;\n",
              "      border-right-color: var(--fill-color);\n",
              "      border-bottom-color: var(--fill-color);\n",
              "    }\n",
              "    90% {\n",
              "      border-color: transparent;\n",
              "      border-bottom-color: var(--fill-color);\n",
              "    }\n",
              "  }\n",
              "</style>\n",
              "\n",
              "  <script>\n",
              "    async function quickchart(key) {\n",
              "      const quickchartButtonEl =\n",
              "        document.querySelector('#' + key + ' button');\n",
              "      quickchartButtonEl.disabled = true;  // To prevent multiple clicks.\n",
              "      quickchartButtonEl.classList.add('colab-df-spinner');\n",
              "      try {\n",
              "        const charts = await google.colab.kernel.invokeFunction(\n",
              "            'suggestCharts', [key], {});\n",
              "      } catch (error) {\n",
              "        console.error('Error during call to suggestCharts:', error);\n",
              "      }\n",
              "      quickchartButtonEl.classList.remove('colab-df-spinner');\n",
              "      quickchartButtonEl.classList.add('colab-df-quickchart-complete');\n",
              "    }\n",
              "    (() => {\n",
              "      let quickchartButtonEl =\n",
              "        document.querySelector('#df-55c27e37-41f0-41df-a378-d1e2ddc9d6c1 button');\n",
              "      quickchartButtonEl.style.display =\n",
              "        google.colab.kernel.accessAllowed ? 'block' : 'none';\n",
              "    })();\n",
              "  </script>\n",
              "</div>\n",
              "\n",
              "  <div id=\"id_053aea18-4ca3-42d7-ada2-efa5894d3d70\">\n",
              "    <style>\n",
              "      .colab-df-generate {\n",
              "        background-color: #E8F0FE;\n",
              "        border: none;\n",
              "        border-radius: 50%;\n",
              "        cursor: pointer;\n",
              "        display: none;\n",
              "        fill: #1967D2;\n",
              "        height: 32px;\n",
              "        padding: 0 0 0 0;\n",
              "        width: 32px;\n",
              "      }\n",
              "\n",
              "      .colab-df-generate:hover {\n",
              "        background-color: #E2EBFA;\n",
              "        box-shadow: 0px 1px 2px rgba(60, 64, 67, 0.3), 0px 1px 3px 1px rgba(60, 64, 67, 0.15);\n",
              "        fill: #174EA6;\n",
              "      }\n",
              "\n",
              "      [theme=dark] .colab-df-generate {\n",
              "        background-color: #3B4455;\n",
              "        fill: #D2E3FC;\n",
              "      }\n",
              "\n",
              "      [theme=dark] .colab-df-generate:hover {\n",
              "        background-color: #434B5C;\n",
              "        box-shadow: 0px 1px 3px 1px rgba(0, 0, 0, 0.15);\n",
              "        filter: drop-shadow(0px 1px 2px rgba(0, 0, 0, 0.3));\n",
              "        fill: #FFFFFF;\n",
              "      }\n",
              "    </style>\n",
              "    <button class=\"colab-df-generate\" onclick=\"generateWithVariable('df_data')\"\n",
              "            title=\"Generate code using this dataframe.\"\n",
              "            style=\"display:none;\">\n",
              "\n",
              "  <svg xmlns=\"http://www.w3.org/2000/svg\" height=\"24px\"viewBox=\"0 0 24 24\"\n",
              "       width=\"24px\">\n",
              "    <path d=\"M7,19H8.4L18.45,9,17,7.55,7,17.6ZM5,21V16.75L18.45,3.32a2,2,0,0,1,2.83,0l1.4,1.43a1.91,1.91,0,0,1,.58,1.4,1.91,1.91,0,0,1-.58,1.4L9.25,21ZM18.45,9,17,7.55Zm-12,3A5.31,5.31,0,0,0,4.9,8.1,5.31,5.31,0,0,0,1,6.5,5.31,5.31,0,0,0,4.9,4.9,5.31,5.31,0,0,0,6.5,1,5.31,5.31,0,0,0,8.1,4.9,5.31,5.31,0,0,0,12,6.5,5.46,5.46,0,0,0,6.5,12Z\"/>\n",
              "  </svg>\n",
              "    </button>\n",
              "    <script>\n",
              "      (() => {\n",
              "      const buttonEl =\n",
              "        document.querySelector('#id_053aea18-4ca3-42d7-ada2-efa5894d3d70 button.colab-df-generate');\n",
              "      buttonEl.style.display =\n",
              "        google.colab.kernel.accessAllowed ? 'block' : 'none';\n",
              "\n",
              "      buttonEl.onclick = () => {\n",
              "        google.colab.notebook.generateWithVariable('df_data');\n",
              "      }\n",
              "      })();\n",
              "    </script>\n",
              "  </div>\n",
              "\n",
              "    </div>\n",
              "  </div>\n"
            ],
            "application/vnd.google.colaboratory.intrinsic+json": {
              "type": "dataframe",
              "variable_name": "df_data"
            }
          },
          "metadata": {},
          "execution_count": 17
        }
      ]
    },
    {
      "cell_type": "markdown",
      "source": [
        "Hay un total de 671 users y 9066 movies."
      ],
      "metadata": {
        "id": "xzcTNyfI32FJ"
      }
    },
    {
      "cell_type": "markdown",
      "source": [
        "Distancias:"
      ],
      "metadata": {
        "id": "XESWpXgfC4gO"
      }
    },
    {
      "cell_type": "code",
      "source": [
        "#Distancia euclidiana entre usuarios\n",
        "def euclidean_similarity(person1, person2):\n",
        "\n",
        "\tcommon_ranked_items = [itm for itm in data[person1] if itm in data[person2]]\n",
        "\trankings = [(data[person1][itm], data[person2][itm]) for itm in common_ranked_items]\n",
        "\tdistance = [pow(rank[0] - rank[1], 2) for rank in rankings]\n",
        "\n",
        "\treturn 1 / (1 + sum(distance))\n",
        "\n",
        "#Distancia euclidiana entre ítems\n",
        "def euclidean_similarity_item(item1_ratings, item2_ratings):\n",
        "    common_users = set(item1_ratings.keys()).intersection(set(item2_ratings.keys()))\n",
        "    if not common_users:\n",
        "        return 0\n",
        "    distances = [np.power(item1_ratings[user] - item2_ratings[user], 2) for user in common_users]\n",
        "    return 1 / (1 + np.sqrt(np.sum(distances)))"
      ],
      "metadata": {
        "id": "9hReFtNHC7F0"
      },
      "execution_count": null,
      "outputs": []
    },
    {
      "cell_type": "code",
      "source": [
        "#Distancia por correlación de Pearson\n",
        "def pearson_similarity(person1, person2):\n",
        "\n",
        "\tcommon_ranked_items = [itm for itm in data[person1] if itm in data[person2]]\n",
        "\n",
        "\tn = len(common_ranked_items)\n",
        "\n",
        "\ts1 = sum([data[person1][item] for item in common_ranked_items])\n",
        "\ts2 = sum([data[person2][item] for item in common_ranked_items])\n",
        "\n",
        "\tss1 = sum([pow(data[person1][item], 2) for item in common_ranked_items])\n",
        "\tss2 = sum([pow(data[person2][item], 2) for item in common_ranked_items])\n",
        "\n",
        "\tps = sum([data[person1][item] * data[person2][item] for item in common_ranked_items])\n",
        "\n",
        "\tnum = n * ps - (s1 * s2)\n",
        "\n",
        "\tden = math.sqrt((n * ss1 - math.pow(s1, 2)) * (n * ss2 - math.pow(s2, 2)))\n",
        "\n",
        "\treturn (num / den) if den != 0 else 0"
      ],
      "metadata": {
        "id": "Hrs3_jNJDBrv"
      },
      "execution_count": null,
      "outputs": []
    },
    {
      "cell_type": "markdown",
      "source": [
        "Función de extracción de títulos a partir de un id:"
      ],
      "metadata": {
        "id": "oStcRlCHEUIy"
      }
    },
    {
      "cell_type": "code",
      "source": [
        "def get_movie_title(movie_id, movies_df):\n",
        "    #Buscar la película con el id especificado\n",
        "    movie = movies_df[movies_df['id'] == movie_id]\n",
        "    #Verificar si se encontró la película\n",
        "    if not movie.empty:\n",
        "        return movie['title'].values[0]\n",
        "    else:\n",
        "        return f\"No se encontró una película con el id {movie_id}.\""
      ],
      "metadata": {
        "id": "rShaAfZXEWsY"
      },
      "execution_count": null,
      "outputs": []
    },
    {
      "cell_type": "markdown",
      "source": [
        "Función para recomendar top n películas"
      ],
      "metadata": {
        "id": "NPjwsTxmRyMY"
      }
    },
    {
      "cell_type": "code",
      "source": [
        "def n_recomendaciones(recomendaciones,n):\n",
        "  top_n_items = sorted(recomendaciones.items(), key=lambda item: item[1], reverse=True)[:n]\n",
        "  top_n_dict = dict(top_n_items)\n",
        "\n",
        "  return top_n_dict"
      ],
      "metadata": {
        "id": "iR8xmLziDzh7"
      },
      "execution_count": null,
      "outputs": []
    },
    {
      "cell_type": "markdown",
      "source": [
        "### Basados en memoria"
      ],
      "metadata": {
        "id": "ONd1FUVLCqp9"
      }
    },
    {
      "cell_type": "markdown",
      "source": [
        "**User-User**"
      ],
      "metadata": {
        "id": "BKHSYEUnCs_P"
      }
    },
    {
      "cell_type": "code",
      "source": [
        "#Función para recomendar películas\n",
        "def user_recommend(person, bound, data, similarity=pearson_similarity):\n",
        "\tscores = [(similarity(person, other), other) for other in data if other != person]\n",
        "\n",
        "\tscores.sort()\n",
        "\tscores.reverse()\n",
        "\tscores = scores[0:bound]\n",
        "\n",
        "\trecomms = {}\n",
        "\n",
        "\tfor sim, other in scores:\n",
        "\t\tranked = data[other]\n",
        "\n",
        "\t\tfor itm in ranked:\n",
        "\t\t\tif itm not in data[person]:\n",
        "\t\t\t\tweight = sim * ranked[itm]\n",
        "\n",
        "\t\t\t\tif itm in recomms:\n",
        "\t\t\t\t\ts, weights = recomms[itm]\n",
        "\t\t\t\t\trecomms[itm] = (s + sim, weights + [weight])\n",
        "\t\t\t\telse:\n",
        "\t\t\t\t\trecomms[itm] = (sim, [weight])\n",
        "\n",
        "  #Normalizar\n",
        "\tfor r in recomms:\n",
        "\t\tsim, item = recomms[r]\n",
        "\t\trecomms[r] = sum(item) / sim\n",
        "\n",
        "\treturn recomms"
      ],
      "metadata": {
        "id": "GRBGd0C1CxDR"
      },
      "execution_count": null,
      "outputs": []
    },
    {
      "cell_type": "code",
      "source": [
        "rec = user_recommend(2, 10, data)\n",
        "n_recomendaciones(rec, 1)"
      ],
      "metadata": {
        "colab": {
          "base_uri": "https://localhost:8080/"
        },
        "id": "CbtgliV3Dl0Y",
        "outputId": "2ec0947d-707d-4eec-9e66-bc25b466a41d"
      },
      "execution_count": null,
      "outputs": [
        {
          "output_type": "execute_result",
          "data": {
            "text/plain": [
              "{27904.0: 5.0}"
            ]
          },
          "metadata": {},
          "execution_count": 41
        }
      ]
    },
    {
      "cell_type": "code",
      "source": [
        "movie_id = 27904\n",
        "title = get_movie_title(movie_id, movies)\n",
        "print(\"Título de la película:\", title)"
      ],
      "metadata": {
        "colab": {
          "base_uri": "https://localhost:8080/"
        },
        "id": "eRP5woPfEeAq",
        "outputId": "f109b565-6d0d-4ced-817b-c1585ac4aaa5"
      },
      "execution_count": null,
      "outputs": [
        {
          "output_type": "stream",
          "name": "stdout",
          "text": [
            "Título de la película: Syndromes and a Century\n"
          ]
        }
      ]
    },
    {
      "cell_type": "markdown",
      "source": [
        "Evaluar la recomendación"
      ],
      "metadata": {
        "id": "4l4RLEVOE2-I"
      }
    },
    {
      "cell_type": "code",
      "source": [
        "train_data, test_data = train_test_split(users, test_size=0.2, random_state=42)\n",
        "\n",
        "train_data_dict = {}\n",
        "test_data_dict = {}\n",
        "\n",
        "for _, row in train_data.iterrows():\n",
        "    user = row['userId']\n",
        "    movie = row['movieId']\n",
        "    rating = row['rating']\n",
        "\n",
        "    if user not in train_data_dict:\n",
        "        train_data_dict[user] = {}\n",
        "\n",
        "    train_data_dict[user][movie] = rating\n",
        "\n",
        "for _, row in test_data.iterrows():\n",
        "    user = row['userId']\n",
        "    movie = row['movieId']\n",
        "    rating = row['rating']\n",
        "\n",
        "    if user not in test_data_dict:\n",
        "        test_data_dict[user] = {}\n",
        "\n",
        "    test_data_dict[user][movie] = rating"
      ],
      "metadata": {
        "id": "Lq9k_93sE4JE"
      },
      "execution_count": null,
      "outputs": []
    },
    {
      "cell_type": "code",
      "source": [
        "def evaluate_recommender(train_data_dict, test_data_dict, similarity_func):\n",
        "    predictions = []\n",
        "\n",
        "    for user in test_data_dict:\n",
        "        recommendations = user_recommend(user, 20, train_data_dict, similarity_func)\n",
        "        for movie in test_data_dict[user]:\n",
        "            if movie in recommendations:\n",
        "                predictions.append((test_data_dict[user][movie], recommendations[movie]))\n",
        "    return predictions"
      ],
      "metadata": {
        "id": "dp-7vZtdE_fZ"
      },
      "execution_count": null,
      "outputs": []
    },
    {
      "cell_type": "code",
      "source": [
        "predictions = evaluate_recommender(train_data_dict, test_data_dict, euclidean_similarity)\n",
        "\n",
        "actual = [rating for rating, _ in predictions]\n",
        "predicted = [pred for _, pred in predictions]\n",
        "\n",
        "actual = np.array(actual)\n",
        "predicted = np.array(predicted)\n",
        "\n",
        "mask = ~np.isnan(predicted)\n",
        "actual = actual[mask]\n",
        "predicted = predicted[mask]\n",
        "\n",
        "#Calcular R^2\n",
        "r2 = r2_score(actual, predicted)\n",
        "print(f\"Coeficiente R^2 del SR: {r2}\")"
      ],
      "metadata": {
        "colab": {
          "base_uri": "https://localhost:8080/"
        },
        "id": "l-kPiziRFYxq",
        "outputId": "de467c9b-fb04-41b7-aada-e52b2b3121cf"
      },
      "execution_count": null,
      "outputs": [
        {
          "output_type": "stream",
          "name": "stdout",
          "text": [
            "Coeficiente R^2 del SR: 0.6317102926095252\n"
          ]
        }
      ]
    },
    {
      "cell_type": "code",
      "source": [
        "import matplotlib.pyplot as plt\n",
        "\n",
        "#Datos para el gráfico\n",
        "items = list(rec.keys())  #Ítems recomendados\n",
        "sims = [rec[item] for item in rec]  #Valores de similitud\n",
        "weights = list(rec.values())  #Suma de los pesos\n",
        "\n",
        "#Gráfico de dispersión\n",
        "plt.figure(figsize=(10, 6))\n",
        "plt.scatter(sims, weights, alpha=0.7, c='#3c9ade', edgecolors='k')\n",
        "plt.axvline(0, color='#fd6220', linestyle='--', label='Similitud = 0')  # Línea para sim = 0\n",
        "plt.title(\"Relación entre Similitud y Pesos de Recomendación\")\n",
        "plt.xlabel(\"Similitud acumulada (sim)\")\n",
        "plt.ylabel(\"Suma de Pesos (weights)\")\n",
        "plt.legend()\n",
        "plt.grid(True)\n",
        "plt.show()"
      ],
      "metadata": {
        "colab": {
          "base_uri": "https://localhost:8080/",
          "height": 211
        },
        "id": "PcPXraB1U7-7",
        "outputId": "c2cb6d1e-c21e-4093-a48e-b700f882c79b"
      },
      "execution_count": null,
      "outputs": [
        {
          "output_type": "error",
          "ename": "NameError",
          "evalue": "name 'rec' is not defined",
          "traceback": [
            "\u001b[0;31m---------------------------------------------------------------------------\u001b[0m",
            "\u001b[0;31mNameError\u001b[0m                                 Traceback (most recent call last)",
            "\u001b[0;32m<ipython-input-27-01b4040b0a46>\u001b[0m in \u001b[0;36m<cell line: 4>\u001b[0;34m()\u001b[0m\n\u001b[1;32m      2\u001b[0m \u001b[0;34m\u001b[0m\u001b[0m\n\u001b[1;32m      3\u001b[0m \u001b[0;31m#Datos para el gráfico\u001b[0m\u001b[0;34m\u001b[0m\u001b[0;34m\u001b[0m\u001b[0m\n\u001b[0;32m----> 4\u001b[0;31m \u001b[0mitems\u001b[0m \u001b[0;34m=\u001b[0m \u001b[0mlist\u001b[0m\u001b[0;34m(\u001b[0m\u001b[0mrec\u001b[0m\u001b[0;34m.\u001b[0m\u001b[0mkeys\u001b[0m\u001b[0;34m(\u001b[0m\u001b[0;34m)\u001b[0m\u001b[0;34m)\u001b[0m  \u001b[0;31m#Ítems recomendados\u001b[0m\u001b[0;34m\u001b[0m\u001b[0;34m\u001b[0m\u001b[0m\n\u001b[0m\u001b[1;32m      5\u001b[0m \u001b[0msims\u001b[0m \u001b[0;34m=\u001b[0m \u001b[0;34m[\u001b[0m\u001b[0mrec\u001b[0m\u001b[0;34m[\u001b[0m\u001b[0mitem\u001b[0m\u001b[0;34m]\u001b[0m \u001b[0;32mfor\u001b[0m \u001b[0mitem\u001b[0m \u001b[0;32min\u001b[0m \u001b[0mrec\u001b[0m\u001b[0;34m]\u001b[0m  \u001b[0;31m#Valores de similitud\u001b[0m\u001b[0;34m\u001b[0m\u001b[0;34m\u001b[0m\u001b[0m\n\u001b[1;32m      6\u001b[0m \u001b[0mweights\u001b[0m \u001b[0;34m=\u001b[0m \u001b[0mlist\u001b[0m\u001b[0;34m(\u001b[0m\u001b[0mrec\u001b[0m\u001b[0;34m.\u001b[0m\u001b[0mvalues\u001b[0m\u001b[0;34m(\u001b[0m\u001b[0;34m)\u001b[0m\u001b[0;34m)\u001b[0m  \u001b[0;31m#Suma de los pesos\u001b[0m\u001b[0;34m\u001b[0m\u001b[0;34m\u001b[0m\u001b[0m\n",
            "\u001b[0;31mNameError\u001b[0m: name 'rec' is not defined"
          ]
        }
      ]
    },
    {
      "cell_type": "markdown",
      "source": [
        "**Ítem-Ítem**"
      ],
      "metadata": {
        "id": "YcdRgpUlCwpP"
      }
    },
    {
      "cell_type": "code",
      "source": [
        "def average_rating(movie_id, data):\n",
        "    total_rating = 0\n",
        "    count = 0\n",
        "\n",
        "    for user in data:\n",
        "        if movie_id in data[user]:\n",
        "            total_rating += data[user][movie_id]\n",
        "            count += 1\n",
        "\n",
        "    return total_rating / count if count > 0 else 0"
      ],
      "metadata": {
        "id": "8Z51L2QGC2nI"
      },
      "execution_count": null,
      "outputs": []
    },
    {
      "cell_type": "code",
      "source": [
        "def item_recommend(user, bound, data, similarity_func=euclidean_similarity_item):\n",
        "    #Top n ítems mejor clasificados por el usuario\n",
        "    favorite_items = sorted(data[user].items(), key=lambda x: x[1], reverse=True)[:bound]\n",
        "    favorite_item_ids = [item[0] for item in favorite_items]\n",
        "\n",
        "    #Estructura de datos a formato item-centered\n",
        "    item_data = {}\n",
        "    for usr in data:\n",
        "        for item, rating in data[usr].items():\n",
        "            if item not in item_data:\n",
        "                item_data[item] = {}\n",
        "            item_data[item][usr] = rating\n",
        "\n",
        "    #Similitud entre los ítems favoritos y todos los demás ítems\n",
        "    item_similarities = {}\n",
        "    for item in favorite_item_ids:\n",
        "        item_similarities[item] = [(similarity_func(item_data[item], item_data[other]), other) for other in item_data if other != item]\n",
        "\n",
        "    recommendations = {}\n",
        "\n",
        "    #Recomendar ítems similares que el usuario aún no ha interactuado\n",
        "    for item in favorite_item_ids:\n",
        "        for sim, other in item_similarities[item]:\n",
        "            if other not in data[user]:  # filtrar ítems que el usuario ya ha visto\n",
        "                weight = sim * average_rating(other,data)\n",
        "                if other in recommendations:\n",
        "                    s, weights = recommendations[other]\n",
        "                    recommendations[other] = (s + sim, weights + [weight])\n",
        "                else:\n",
        "                    recommendations[other] = (sim, [weight])\n",
        "\n",
        "    #Normalizar los puntajes de recomendación (promedio ponderado de similitudes)\n",
        "    # for item in recommendations:\n",
        "    #     sim, weights = recommendations[item]\n",
        "    #     recommendations[item] = sum(weights) / sim\n",
        "    for item in recommendations:\n",
        "      sim, weights = recommendations[item]\n",
        "      #print(f\"Procesando ítem {item}, similitud acumulada: {sim}\")\n",
        "      if sim > 0:\n",
        "          recommendations[item] = sum(weights) / sim\n",
        "      else:\n",
        "          #print(f\"Advertencia: Similitud es 0 para ítem {item}\")\n",
        "          recommendations[item] = 0\n",
        "\n",
        "    return recommendations"
      ],
      "metadata": {
        "id": "IEzm4JFQGuL5"
      },
      "execution_count": null,
      "outputs": []
    },
    {
      "cell_type": "code",
      "source": [
        "rec = item_recommend(4,7,data,euclidean_similarity_item)\n",
        "n_recomendaciones(rec, 1)"
      ],
      "metadata": {
        "colab": {
          "base_uri": "https://localhost:8080/"
        },
        "id": "srttwao1HXiU",
        "outputId": "27e1cb84-4089-4d27-8378-1f3b852a3e3c"
      },
      "execution_count": null,
      "outputs": [
        {
          "output_type": "execute_result",
          "data": {
            "text/plain": [
              "{5062.0: 5.000000000000001}"
            ]
          },
          "metadata": {},
          "execution_count": 32
        }
      ]
    },
    {
      "cell_type": "code",
      "source": [
        "movie_id = 5062\n",
        "title = get_movie_title(movie_id, movies)\n",
        "print(\"Título de la película:\", title)"
      ],
      "metadata": {
        "colab": {
          "base_uri": "https://localhost:8080/"
        },
        "id": "pTUGRYPZIS4f",
        "outputId": "9986bc29-143f-4474-eabd-2cf6142bfca8"
      },
      "execution_count": null,
      "outputs": [
        {
          "output_type": "stream",
          "name": "stdout",
          "text": [
            "Título de la película: The Inquisitor\n"
          ]
        }
      ]
    },
    {
      "cell_type": "markdown",
      "source": [
        "Evaluar la recomendación"
      ],
      "metadata": {
        "id": "H_-z2w_CIcsj"
      }
    },
    {
      "cell_type": "code",
      "source": [
        "train_data, test_data = train_test_split(users, test_size=0.2, random_state=42)\n",
        "\n",
        "train_data_dict = {}\n",
        "test_data_dict = {}\n",
        "\n",
        "for _, row in train_data.iterrows():\n",
        "    user = row['userId']\n",
        "    movie = row['movieId']\n",
        "    rating = row['rating']\n",
        "\n",
        "    if user not in train_data_dict:\n",
        "        train_data_dict[user] = {}\n",
        "\n",
        "    train_data_dict[user][movie] = rating\n",
        "\n",
        "for _, row in test_data.iterrows():\n",
        "    user = row['userId']\n",
        "    movie = row['movieId']\n",
        "    rating = row['rating']\n",
        "\n",
        "    if user not in test_data_dict:\n",
        "        test_data_dict[user] = {}\n",
        "\n",
        "    test_data_dict[user][movie] = rating"
      ],
      "metadata": {
        "id": "nHMNNRo9IcZb"
      },
      "execution_count": null,
      "outputs": []
    },
    {
      "cell_type": "code",
      "source": [
        "def evaluate_recommender(train_data_dict, test_data_dict, similarity_func, top_n=5):\n",
        "    predictions = []\n",
        "\n",
        "    for user in test_data_dict:\n",
        "        recommendations = item_recommend(user, top_n, train_data_dict, similarity_func)\n",
        "        recommended_movies = set(recommendations.keys())  #Películas recomendadas\n",
        "\n",
        "        #Solo comparar las películas en el conjunto de prueba que fueron recomendadas\n",
        "        for movie in test_data_dict[user]:\n",
        "            if movie in recommended_movies:\n",
        "                predictions.append((test_data_dict[user][movie], recommendations[movie]))\n",
        "\n",
        "    return predictions"
      ],
      "metadata": {
        "id": "B8yQjHeaImHI"
      },
      "execution_count": null,
      "outputs": []
    },
    {
      "cell_type": "code",
      "source": [
        "import matplotlib.pyplot as plt\n",
        "\n",
        "#Datos para el gráfico\n",
        "items = list(rec.keys())  #Ítems recomendados\n",
        "sims = [rec[item] for item in rec]  #Valores de similitud\n",
        "weights = list(rec.values())  #Suma de los pesos\n",
        "\n",
        "#Gráfico de dispersión\n",
        "plt.figure(figsize=(10, 6))\n",
        "plt.scatter(sims, weights, alpha=0.7, c='#3c9ade', edgecolors='k')\n",
        "plt.axvline(0, color='#fd6220', linestyle='--', label='Similitud = 0')  # Línea para sim = 0\n",
        "plt.title(\"Relación entre Similitud y Pesos de Recomendación\")\n",
        "plt.xlabel(\"Similitud acumulada (sim)\")\n",
        "plt.ylabel(\"Suma de Pesos (weights)\")\n",
        "plt.legend()\n",
        "plt.grid(True)\n",
        "plt.show()"
      ],
      "metadata": {
        "colab": {
          "base_uri": "https://localhost:8080/",
          "height": 565
        },
        "id": "j4kmpbmESqiQ",
        "outputId": "a6be6933-f78c-4890-e778-17881204e4cb"
      },
      "execution_count": null,
      "outputs": [
        {
          "output_type": "display_data",
          "data": {
            "text/plain": [
              "<Figure size 1000x600 with 1 Axes>"
            ],
            "image/png": "[encoded data removed]"
          },
          "metadata": {}
        }
      ]
    },
    {
      "cell_type": "code",
      "source": [
        "predictions = evaluate_recommender(train_data_dict, test_data_dict, euclidean_similarity_item)\n",
        "\n",
        "actual = [rating for rating, _ in predictions]\n",
        "predicted = [pred for _, pred in predictions]\n",
        "\n",
        "actual = np.array(actual)\n",
        "predicted = np.array(predicted)\n",
        "\n",
        "mask = ~np.isnan(predicted)\n",
        "actual = actual[mask]\n",
        "predicted = predicted[mask]\n",
        "\n",
        "#Calcular R^2\n",
        "r2 = r2_score(actual, predicted)\n",
        "print(f\"Coeficiente R^2 del sistema de recomendación: {r2}\")"
      ],
      "metadata": {
        "colab": {
          "base_uri": "https://localhost:8080/",
          "height": 373
        },
        "id": "cUfyZrBZImpA",
        "outputId": "3716d7a6-4df1-490e-8416-6cf7f2f4ce4f"
      },
      "execution_count": null,
      "outputs": [
        {
          "output_type": "error",
          "ename": "KeyboardInterrupt",
          "evalue": "",
          "traceback": [
            "\u001b[0;31m---------------------------------------------------------------------------\u001b[0m",
            "\u001b[0;31mKeyboardInterrupt\u001b[0m                         Traceback (most recent call last)",
            "\u001b[0;32m<ipython-input-37-90dc994d73ca>\u001b[0m in \u001b[0;36m<cell line: 1>\u001b[0;34m()\u001b[0m\n\u001b[0;32m----> 1\u001b[0;31m \u001b[0mpredictions\u001b[0m \u001b[0;34m=\u001b[0m \u001b[0mevaluate_recommender\u001b[0m\u001b[0;34m(\u001b[0m\u001b[0mtrain_data_dict\u001b[0m\u001b[0;34m,\u001b[0m \u001b[0mtest_data_dict\u001b[0m\u001b[0;34m,\u001b[0m \u001b[0meuclidean_similarity_item\u001b[0m\u001b[0;34m)\u001b[0m\u001b[0;34m\u001b[0m\u001b[0;34m\u001b[0m\u001b[0m\n\u001b[0m\u001b[1;32m      2\u001b[0m \u001b[0;34m\u001b[0m\u001b[0m\n\u001b[1;32m      3\u001b[0m \u001b[0mactual\u001b[0m \u001b[0;34m=\u001b[0m \u001b[0;34m[\u001b[0m\u001b[0mrating\u001b[0m \u001b[0;32mfor\u001b[0m \u001b[0mrating\u001b[0m\u001b[0;34m,\u001b[0m \u001b[0m_\u001b[0m \u001b[0;32min\u001b[0m \u001b[0mpredictions\u001b[0m\u001b[0;34m]\u001b[0m\u001b[0;34m\u001b[0m\u001b[0;34m\u001b[0m\u001b[0m\n\u001b[1;32m      4\u001b[0m \u001b[0mpredicted\u001b[0m \u001b[0;34m=\u001b[0m \u001b[0;34m[\u001b[0m\u001b[0mpred\u001b[0m \u001b[0;32mfor\u001b[0m \u001b[0m_\u001b[0m\u001b[0;34m,\u001b[0m \u001b[0mpred\u001b[0m \u001b[0;32min\u001b[0m \u001b[0mpredictions\u001b[0m\u001b[0;34m]\u001b[0m\u001b[0;34m\u001b[0m\u001b[0;34m\u001b[0m\u001b[0m\n\u001b[1;32m      5\u001b[0m \u001b[0;34m\u001b[0m\u001b[0m\n",
            "\u001b[0;32m<ipython-input-35-41259e90a6c1>\u001b[0m in \u001b[0;36mevaluate_recommender\u001b[0;34m(train_data_dict, test_data_dict, similarity_func, top_n)\u001b[0m\n\u001b[1;32m      3\u001b[0m \u001b[0;34m\u001b[0m\u001b[0m\n\u001b[1;32m      4\u001b[0m     \u001b[0;32mfor\u001b[0m \u001b[0muser\u001b[0m \u001b[0;32min\u001b[0m \u001b[0mtest_data_dict\u001b[0m\u001b[0;34m:\u001b[0m\u001b[0;34m\u001b[0m\u001b[0;34m\u001b[0m\u001b[0m\n\u001b[0;32m----> 5\u001b[0;31m         \u001b[0mrecommendations\u001b[0m \u001b[0;34m=\u001b[0m \u001b[0mitem_recommend\u001b[0m\u001b[0;34m(\u001b[0m\u001b[0muser\u001b[0m\u001b[0;34m,\u001b[0m \u001b[0mtop_n\u001b[0m\u001b[0;34m,\u001b[0m \u001b[0mtrain_data_dict\u001b[0m\u001b[0;34m,\u001b[0m \u001b[0msimilarity_func\u001b[0m\u001b[0;34m)\u001b[0m\u001b[0;34m\u001b[0m\u001b[0;34m\u001b[0m\u001b[0m\n\u001b[0m\u001b[1;32m      6\u001b[0m         \u001b[0mrecommended_movies\u001b[0m \u001b[0;34m=\u001b[0m \u001b[0mset\u001b[0m\u001b[0;34m(\u001b[0m\u001b[0mrecommendations\u001b[0m\u001b[0;34m.\u001b[0m\u001b[0mkeys\u001b[0m\u001b[0;34m(\u001b[0m\u001b[0;34m)\u001b[0m\u001b[0;34m)\u001b[0m  \u001b[0;31m#Películas recomendadas\u001b[0m\u001b[0;34m\u001b[0m\u001b[0;34m\u001b[0m\u001b[0m\n\u001b[1;32m      7\u001b[0m \u001b[0;34m\u001b[0m\u001b[0m\n",
            "\u001b[0;32m<ipython-input-31-da89c27a1861>\u001b[0m in \u001b[0;36mitem_recommend\u001b[0;34m(user, bound, data, similarity_func)\u001b[0m\n\u001b[1;32m     15\u001b[0m     \u001b[0mitem_similarities\u001b[0m \u001b[0;34m=\u001b[0m \u001b[0;34m{\u001b[0m\u001b[0;34m}\u001b[0m\u001b[0;34m\u001b[0m\u001b[0;34m\u001b[0m\u001b[0m\n\u001b[1;32m     16\u001b[0m     \u001b[0;32mfor\u001b[0m \u001b[0mitem\u001b[0m \u001b[0;32min\u001b[0m \u001b[0mfavorite_item_ids\u001b[0m\u001b[0;34m:\u001b[0m\u001b[0;34m\u001b[0m\u001b[0;34m\u001b[0m\u001b[0m\n\u001b[0;32m---> 17\u001b[0;31m         \u001b[0mitem_similarities\u001b[0m\u001b[0;34m[\u001b[0m\u001b[0mitem\u001b[0m\u001b[0;34m]\u001b[0m \u001b[0;34m=\u001b[0m \u001b[0;34m[\u001b[0m\u001b[0;34m(\u001b[0m\u001b[0msimilarity_func\u001b[0m\u001b[0;34m(\u001b[0m\u001b[0mitem_data\u001b[0m\u001b[0;34m[\u001b[0m\u001b[0mitem\u001b[0m\u001b[0;34m]\u001b[0m\u001b[0;34m,\u001b[0m \u001b[0mitem_data\u001b[0m\u001b[0;34m[\u001b[0m\u001b[0mother\u001b[0m\u001b[0;34m]\u001b[0m\u001b[0;34m)\u001b[0m\u001b[0;34m,\u001b[0m \u001b[0mother\u001b[0m\u001b[0;34m)\u001b[0m \u001b[0;32mfor\u001b[0m \u001b[0mother\u001b[0m \u001b[0;32min\u001b[0m \u001b[0mitem_data\u001b[0m \u001b[0;32mif\u001b[0m \u001b[0mother\u001b[0m \u001b[0;34m!=\u001b[0m \u001b[0mitem\u001b[0m\u001b[0;34m]\u001b[0m\u001b[0;34m\u001b[0m\u001b[0;34m\u001b[0m\u001b[0m\n\u001b[0m\u001b[1;32m     18\u001b[0m \u001b[0;34m\u001b[0m\u001b[0m\n\u001b[1;32m     19\u001b[0m     \u001b[0mrecommendations\u001b[0m \u001b[0;34m=\u001b[0m \u001b[0;34m{\u001b[0m\u001b[0;34m}\u001b[0m\u001b[0;34m\u001b[0m\u001b[0;34m\u001b[0m\u001b[0m\n",
            "\u001b[0;32m<ipython-input-31-da89c27a1861>\u001b[0m in \u001b[0;36m<listcomp>\u001b[0;34m(.0)\u001b[0m\n\u001b[1;32m     15\u001b[0m     \u001b[0mitem_similarities\u001b[0m \u001b[0;34m=\u001b[0m \u001b[0;34m{\u001b[0m\u001b[0;34m}\u001b[0m\u001b[0;34m\u001b[0m\u001b[0;34m\u001b[0m\u001b[0m\n\u001b[1;32m     16\u001b[0m     \u001b[0;32mfor\u001b[0m \u001b[0mitem\u001b[0m \u001b[0;32min\u001b[0m \u001b[0mfavorite_item_ids\u001b[0m\u001b[0;34m:\u001b[0m\u001b[0;34m\u001b[0m\u001b[0;34m\u001b[0m\u001b[0m\n\u001b[0;32m---> 17\u001b[0;31m         \u001b[0mitem_similarities\u001b[0m\u001b[0;34m[\u001b[0m\u001b[0mitem\u001b[0m\u001b[0;34m]\u001b[0m \u001b[0;34m=\u001b[0m \u001b[0;34m[\u001b[0m\u001b[0;34m(\u001b[0m\u001b[0msimilarity_func\u001b[0m\u001b[0;34m(\u001b[0m\u001b[0mitem_data\u001b[0m\u001b[0;34m[\u001b[0m\u001b[0mitem\u001b[0m\u001b[0;34m]\u001b[0m\u001b[0;34m,\u001b[0m \u001b[0mitem_data\u001b[0m\u001b[0;34m[\u001b[0m\u001b[0mother\u001b[0m\u001b[0;34m]\u001b[0m\u001b[0;34m)\u001b[0m\u001b[0;34m,\u001b[0m \u001b[0mother\u001b[0m\u001b[0;34m)\u001b[0m \u001b[0;32mfor\u001b[0m \u001b[0mother\u001b[0m \u001b[0;32min\u001b[0m \u001b[0mitem_data\u001b[0m \u001b[0;32mif\u001b[0m \u001b[0mother\u001b[0m \u001b[0;34m!=\u001b[0m \u001b[0mitem\u001b[0m\u001b[0;34m]\u001b[0m\u001b[0;34m\u001b[0m\u001b[0;34m\u001b[0m\u001b[0m\n\u001b[0m\u001b[1;32m     18\u001b[0m \u001b[0;34m\u001b[0m\u001b[0m\n\u001b[1;32m     19\u001b[0m     \u001b[0mrecommendations\u001b[0m \u001b[0;34m=\u001b[0m \u001b[0;34m{\u001b[0m\u001b[0;34m}\u001b[0m\u001b[0;34m\u001b[0m\u001b[0;34m\u001b[0m\u001b[0m\n",
            "\u001b[0;32m<ipython-input-18-dfe426790fca>\u001b[0m in \u001b[0;36meuclidean_similarity_item\u001b[0;34m(item1_ratings, item2_ratings)\u001b[0m\n\u001b[1;32m     14\u001b[0m         \u001b[0;32mreturn\u001b[0m \u001b[0;36m0\u001b[0m\u001b[0;34m\u001b[0m\u001b[0;34m\u001b[0m\u001b[0m\n\u001b[1;32m     15\u001b[0m     \u001b[0mdistances\u001b[0m \u001b[0;34m=\u001b[0m \u001b[0;34m[\u001b[0m\u001b[0mnp\u001b[0m\u001b[0;34m.\u001b[0m\u001b[0mpower\u001b[0m\u001b[0;34m(\u001b[0m\u001b[0mitem1_ratings\u001b[0m\u001b[0;34m[\u001b[0m\u001b[0muser\u001b[0m\u001b[0;34m]\u001b[0m \u001b[0;34m-\u001b[0m \u001b[0mitem2_ratings\u001b[0m\u001b[0;34m[\u001b[0m\u001b[0muser\u001b[0m\u001b[0;34m]\u001b[0m\u001b[0;34m,\u001b[0m \u001b[0;36m2\u001b[0m\u001b[0;34m)\u001b[0m \u001b[0;32mfor\u001b[0m \u001b[0muser\u001b[0m \u001b[0;32min\u001b[0m \u001b[0mcommon_users\u001b[0m\u001b[0;34m]\u001b[0m\u001b[0;34m\u001b[0m\u001b[0;34m\u001b[0m\u001b[0m\n\u001b[0;32m---> 16\u001b[0;31m     \u001b[0;32mreturn\u001b[0m \u001b[0;36m1\u001b[0m \u001b[0;34m/\u001b[0m \u001b[0;34m(\u001b[0m\u001b[0;36m1\u001b[0m \u001b[0;34m+\u001b[0m \u001b[0mnp\u001b[0m\u001b[0;34m.\u001b[0m\u001b[0msqrt\u001b[0m\u001b[0;34m(\u001b[0m\u001b[0mnp\u001b[0m\u001b[0;34m.\u001b[0m\u001b[0msum\u001b[0m\u001b[0;34m(\u001b[0m\u001b[0mdistances\u001b[0m\u001b[0;34m)\u001b[0m\u001b[0;34m)\u001b[0m\u001b[0;34m)\u001b[0m\u001b[0;34m\u001b[0m\u001b[0;34m\u001b[0m\u001b[0m\n\u001b[0m",
            "\u001b[0;32m/usr/local/lib/python3.10/dist-packages/numpy/core/fromnumeric.py\u001b[0m in \u001b[0;36msum\u001b[0;34m(a, axis, dtype, out, keepdims, initial, where)\u001b[0m\n\u001b[1;32m   2311\u001b[0m         \u001b[0;32mreturn\u001b[0m \u001b[0mres\u001b[0m\u001b[0;34m\u001b[0m\u001b[0;34m\u001b[0m\u001b[0m\n\u001b[1;32m   2312\u001b[0m \u001b[0;34m\u001b[0m\u001b[0m\n\u001b[0;32m-> 2313\u001b[0;31m     return _wrapreduction(a, np.add, 'sum', axis, dtype, out, keepdims=keepdims,\n\u001b[0m\u001b[1;32m   2314\u001b[0m                           initial=initial, where=where)\n\u001b[1;32m   2315\u001b[0m \u001b[0;34m\u001b[0m\u001b[0m\n",
            "\u001b[0;32m/usr/local/lib/python3.10/dist-packages/numpy/core/fromnumeric.py\u001b[0m in \u001b[0;36m_wrapreduction\u001b[0;34m(obj, ufunc, method, axis, dtype, out, **kwargs)\u001b[0m\n\u001b[1;32m     86\u001b[0m                 \u001b[0;32mreturn\u001b[0m \u001b[0mreduction\u001b[0m\u001b[0;34m(\u001b[0m\u001b[0maxis\u001b[0m\u001b[0;34m=\u001b[0m\u001b[0maxis\u001b[0m\u001b[0;34m,\u001b[0m \u001b[0mout\u001b[0m\u001b[0;34m=\u001b[0m\u001b[0mout\u001b[0m\u001b[0;34m,\u001b[0m \u001b[0;34m**\u001b[0m\u001b[0mpasskwargs\u001b[0m\u001b[0;34m)\u001b[0m\u001b[0;34m\u001b[0m\u001b[0;34m\u001b[0m\u001b[0m\n\u001b[1;32m     87\u001b[0m \u001b[0;34m\u001b[0m\u001b[0m\n\u001b[0;32m---> 88\u001b[0;31m     \u001b[0;32mreturn\u001b[0m \u001b[0mufunc\u001b[0m\u001b[0;34m.\u001b[0m\u001b[0mreduce\u001b[0m\u001b[0;34m(\u001b[0m\u001b[0mobj\u001b[0m\u001b[0;34m,\u001b[0m \u001b[0maxis\u001b[0m\u001b[0;34m,\u001b[0m \u001b[0mdtype\u001b[0m\u001b[0;34m,\u001b[0m \u001b[0mout\u001b[0m\u001b[0;34m,\u001b[0m \u001b[0;34m**\u001b[0m\u001b[0mpasskwargs\u001b[0m\u001b[0;34m)\u001b[0m\u001b[0;34m\u001b[0m\u001b[0;34m\u001b[0m\u001b[0m\n\u001b[0m\u001b[1;32m     89\u001b[0m \u001b[0;34m\u001b[0m\u001b[0m\n\u001b[1;32m     90\u001b[0m \u001b[0;34m\u001b[0m\u001b[0m\n",
            "\u001b[0;31mKeyboardInterrupt\u001b[0m: "
          ]
        }
      ]
    },
    {
      "cell_type": "markdown",
      "source": [
        "### Basados en modelos"
      ],
      "metadata": {
        "id": "6szDW6-PCj5w"
      }
    },
    {
      "cell_type": "markdown",
      "source": [
        "U= matriz de usuarios | Vt= matriz de productos (peliculas)"
      ],
      "metadata": {
        "id": "dDywrtluDU4W"
      }
    },
    {
      "cell_type": "code",
      "source": [
        "!pip install surprise"
      ],
      "metadata": {
        "id": "JvA6NcgyNFWw",
        "colab": {
          "base_uri": "https://localhost:8080/"
        },
        "outputId": "57877162-99be-4b1c-b3bf-646afe24373d",
        "collapsed": true
      },
      "execution_count": null,
      "outputs": [
        {
          "output_type": "stream",
          "name": "stdout",
          "text": [
            "Collecting surprise\n",
            "  Downloading surprise-0.1-py2.py3-none-any.whl.metadata (327 bytes)\n",
            "Collecting scikit-surprise (from surprise)\n",
            "  Downloading scikit_surprise-1.1.4.tar.gz (154 kB)\n",
            "\u001b[2K     \u001b[90m━━━━━━━━━━━━━━━━━━━━━━━━━━━━━━━━━━━━━━━━\u001b[0m \u001b[32m154.4/154.4 kB\u001b[0m \u001b[31m3.1 MB/s\u001b[0m eta \u001b[36m0:00:00\u001b[0m\n",
            "\u001b[?25h  Installing build dependencies ... \u001b[?25l\u001b[?25hdone\n",
            "  Getting requirements to build wheel ... \u001b[?25l\u001b[?25hdone\n",
            "  Preparing metadata (pyproject.toml) ... \u001b[?25l\u001b[?25hdone\n",
            "Requirement already satisfied: joblib>=1.2.0 in /usr/local/lib/python3.10/dist-packages (from scikit-surprise->surprise) (1.4.2)\n",
            "Requirement already satisfied: numpy>=1.19.5 in /usr/local/lib/python3.10/dist-packages (from scikit-surprise->surprise) (1.26.4)\n",
            "Requirement already satisfied: scipy>=1.6.0 in /usr/local/lib/python3.10/dist-packages (from scikit-surprise->surprise) (1.13.1)\n",
            "Downloading surprise-0.1-py2.py3-none-any.whl (1.8 kB)\n",
            "Building wheels for collected packages: scikit-surprise\n",
            "  Building wheel for scikit-surprise (pyproject.toml) ... \u001b[?25l\u001b[?25hdone\n",
            "  Created wheel for scikit-surprise: filename=scikit_surprise-1.1.4-cp310-cp310-linux_x86_64.whl size=2357297 sha256=441e3b1518a566d149cc08965ce19d89cbaadf7dba31273d2ffb8071edc7adb8\n",
            "  Stored in directory: /root/.cache/pip/wheels/4b/3f/df/6acbf0a40397d9bf3ff97f582cc22fb9ce66adde75bc71fd54\n",
            "Successfully built scikit-surprise\n",
            "Installing collected packages: scikit-surprise, surprise\n",
            "Successfully installed scikit-surprise-1.1.4 surprise-0.1\n"
          ]
        }
      ]
    },
    {
      "cell_type": "code",
      "source": [
        "from surprise.model_selection import GridSearchCV\n",
        "from surprise import Dataset, Reader, SVD\n",
        "from sklearn.metrics import mean_absolute_error, mean_squared_error\n",
        "import pandas as pd\n",
        "import numpy as np\n",
        "\n",
        "# Supongamos que data es un diccionario en este formato:\n",
        "# data = {user1: {item1: rating1, item2: rating2, ...}, user2: {...}, ...}\n",
        "\n",
        "# Convertimos los datos a una lista de tuplas\n",
        "rating_data = [(user, item, rating) for user, items in data.items() for item, rating in items.items()]\n",
        "\n",
        "# Creamos un DataFrame\n",
        "rating_df = pd.DataFrame(rating_data, columns=['user', 'item', 'rating'])\n",
        "\n",
        "# Creamos un objeto Reader\n",
        "reader = Reader(rating_scale=(1, 5))\n",
        "\n",
        "# Cargamos los datos en un objeto Dataset\n",
        "data = Dataset.load_from_df(rating_df[['user', 'item', 'rating']], reader=reader)\n",
        "\n",
        "# Hiperparámetros\n",
        "param_grid = {\n",
        "    'n_factors': [50, 100, 150, 200, 299],\n",
        "    'lr_all': [0.002, 0.005, 0.01],\n",
        "    'reg_all': [0.2, 0.4, 0.6]\n",
        "}\n",
        "\n",
        "# Realizar la Grid Search\n",
        "grid_search = GridSearchCV(SVD, param_grid, measures=['rmse', 'mae'], cv=3)\n",
        "grid_search.fit(data)\n",
        "\n",
        "# Ver el mejor modelo encontrado\n",
        "print(f\"Mejores parámetros: {grid_search.best_params}\")\n",
        "print(f\"Mejor RMSE: {grid_search.best_score['rmse']}\")\n",
        "print(f\"Mejor MAE: {grid_search.best_score['mae']}\")\n",
        "\n",
        "# Obtener el modelo con los mejores parámetros\n",
        "best_model = grid_search.best_estimator['rmse']\n",
        "\n",
        "# Entrenamos el modelo con el conjunto completo\n",
        "trainset = data.build_full_trainset()\n",
        "best_model.fit(trainset)\n",
        "\n",
        "# Generamos predicciones en el conjunto de prueba\n",
        "testset = trainset.build_testset()\n",
        "predictions = best_model.test(testset)\n",
        "\n",
        "# Calcular métricas adicionales\n",
        "y_true = np.array([pred.r_ui for pred in predictions])\n",
        "y_pred = np.array([pred.est for pred in predictions])\n",
        "\n",
        "# R²\n",
        "ss_total = np.sum((y_true - np.mean(y_true))**2)\n",
        "ss_residual = np.sum((y_true - y_pred)**2)\n",
        "r2 = 1 - (ss_residual / ss_total)\n",
        "print(f\"R²: {r2}\")\n",
        "\n",
        "# MAPE\n",
        "mape = np.mean(np.abs((y_true - y_pred) / y_true)) * 100\n",
        "print(f\"MAPE: {mape}%\")\n"
      ],
      "metadata": {
        "colab": {
          "base_uri": "https://localhost:8080/"
        },
        "id": "chd1s4X3e4KR",
        "outputId": "08f2b68e-67f2-4a1a-d9b6-796a504eeb28"
      },
      "execution_count": null,
      "outputs": [
        {
          "output_type": "stream",
          "name": "stdout",
          "text": [
            "Mejores parámetros: {'rmse': {'n_factors': 100, 'lr_all': 0.01, 'reg_all': 0.2}, 'mae': {'n_factors': 100, 'lr_all': 0.01, 'reg_all': 0.2}}\n",
            "Mejor RMSE: 0.8941173524612803\n",
            "Mejor MAE: 0.6903190389774325\n",
            "R²: 0.3780835561225826\n",
            "MAPE: 28.28447706906631%\n"
          ]
        }
      ]
    },
    {
      "cell_type": "code",
      "source": [
        "# from surprise.model_selection import GridSearchCV\n",
        "from surprise import KNNBasic\n",
        "# from surprise import accuracy\n",
        "# import numpy as np\n",
        "from sklearn.metrics import mean_absolute_error, mean_squared_error\n",
        "\n",
        "# Definir el espacio de búsqueda de hiperparámetros\n",
        "param_grid = {\n",
        "    'k': [10, 20, 30, 40, 50],\n",
        "    'sim_options': {\n",
        "        'name': ['cosine', 'pearson'],\n",
        "        'user_based': [True, False]}}\n",
        "\n",
        "# Realizar la búsqueda de cuadrícula con múltiples métricas\n",
        "grid_search = GridSearchCV(KNNBasic, param_grid, measures=['rmse', 'mae', 'mse'], cv=3)  # Usamos KNNBasic como modelo\n",
        "grid_search.fit(data)\n",
        "\n",
        "# Ver el mejor modelo encontrado\n",
        "print(f\"Mejores parámetros: {grid_search.best_params}\")\n",
        "print(f\"Mejor RMSE: {grid_search.best_score['rmse']}\")\n",
        "print(f\"Mejor MAE: {grid_search.best_score['mae']}\")\n",
        "print(f\"Mejor MSE: {grid_search.best_score['mse']}\")\n",
        "\n",
        "# Obtener el modelo con los mejores parámetros y hacer predicciones\n",
        "best_model = grid_search.best_estimator['rmse']\n",
        "\n",
        "# Calcular R² y MAPE usando el mejor modelo\n",
        "trainset = data.build_full_trainset()\n",
        "testset = trainset.build_testset()\n",
        "best_model.fit(trainset)\n",
        "predictions = best_model.test(testset)\n",
        "\n",
        "# Calcular R² (Coeficiente de Determinación)\n",
        "y_true = np.array([pred.r_ui for pred in predictions])  # Usamos 'r_ui' para las calificaciones reales\n",
        "y_pred = np.array([pred.est for pred in predictions])    # Usamos 'est' para las calificaciones predichas\n",
        "\n",
        "ss_total = np.sum((y_true - np.mean(y_true))**2)\n",
        "ss_residual = np.sum((y_true - y_pred)**2)\n",
        "r2 = 1 - (ss_residual / ss_total)\n",
        "print(f\"R²: {r2}\")\n",
        "\n",
        "# Calcular MAPE (Mean Absolute Percentage Error)\n",
        "mape = np.mean(np.abs((y_true - y_pred) / y_true)) * 100\n",
        "print(f\"MAPE: {mape}%\")"
      ],
      "metadata": {
        "colab": {
          "base_uri": "https://localhost:8080/"
        },
        "id": "bQxQZUSysnGF",
        "outputId": "81a9d718-16b2-4e15-89b7-8dbaac27ca1c"
      },
      "execution_count": null,
      "outputs": [
        {
          "output_type": "stream",
          "name": "stdout",
          "text": [
            "Computing the cosine similarity matrix...\n",
            "Done computing similarity matrix.\n",
            "Computing the cosine similarity matrix...\n",
            "Done computing similarity matrix.\n",
            "Computing the cosine similarity matrix...\n",
            "Done computing similarity matrix.\n",
            "Computing the cosine similarity matrix...\n",
            "Done computing similarity matrix.\n",
            "Computing the cosine similarity matrix...\n",
            "Done computing similarity matrix.\n",
            "Computing the cosine similarity matrix...\n",
            "Done computing similarity matrix.\n",
            "Computing the pearson similarity matrix...\n",
            "Done computing similarity matrix.\n",
            "Computing the pearson similarity matrix...\n",
            "Done computing similarity matrix.\n",
            "Computing the pearson similarity matrix...\n",
            "Done computing similarity matrix.\n",
            "Computing the pearson similarity matrix...\n",
            "Done computing similarity matrix.\n",
            "Computing the pearson similarity matrix...\n",
            "Done computing similarity matrix.\n",
            "Computing the pearson similarity matrix...\n",
            "Done computing similarity matrix.\n",
            "Computing the cosine similarity matrix...\n",
            "Done computing similarity matrix.\n",
            "Computing the cosine similarity matrix...\n",
            "Done computing similarity matrix.\n",
            "Computing the cosine similarity matrix...\n",
            "Done computing similarity matrix.\n",
            "Computing the cosine similarity matrix...\n",
            "Done computing similarity matrix.\n",
            "Computing the cosine similarity matrix...\n",
            "Done computing similarity matrix.\n",
            "Computing the cosine similarity matrix...\n",
            "Done computing similarity matrix.\n",
            "Computing the pearson similarity matrix...\n",
            "Done computing similarity matrix.\n",
            "Computing the pearson similarity matrix...\n",
            "Done computing similarity matrix.\n",
            "Computing the pearson similarity matrix...\n",
            "Done computing similarity matrix.\n",
            "Computing the pearson similarity matrix...\n",
            "Done computing similarity matrix.\n",
            "Computing the pearson similarity matrix...\n",
            "Done computing similarity matrix.\n",
            "Computing the pearson similarity matrix...\n",
            "Done computing similarity matrix.\n",
            "Computing the cosine similarity matrix...\n",
            "Done computing similarity matrix.\n",
            "Computing the cosine similarity matrix...\n",
            "Done computing similarity matrix.\n",
            "Computing the cosine similarity matrix...\n",
            "Done computing similarity matrix.\n",
            "Computing the cosine similarity matrix...\n",
            "Done computing similarity matrix.\n",
            "Computing the cosine similarity matrix...\n",
            "Done computing similarity matrix.\n",
            "Computing the cosine similarity matrix...\n",
            "Done computing similarity matrix.\n",
            "Computing the pearson similarity matrix...\n",
            "Done computing similarity matrix.\n",
            "Computing the pearson similarity matrix...\n",
            "Done computing similarity matrix.\n",
            "Computing the pearson similarity matrix...\n",
            "Done computing similarity matrix.\n",
            "Computing the pearson similarity matrix...\n",
            "Done computing similarity matrix.\n",
            "Computing the pearson similarity matrix...\n",
            "Done computing similarity matrix.\n",
            "Computing the pearson similarity matrix...\n",
            "Done computing similarity matrix.\n",
            "Computing the cosine similarity matrix...\n",
            "Done computing similarity matrix.\n",
            "Computing the cosine similarity matrix...\n",
            "Done computing similarity matrix.\n",
            "Computing the cosine similarity matrix...\n",
            "Done computing similarity matrix.\n",
            "Computing the cosine similarity matrix...\n",
            "Done computing similarity matrix.\n",
            "Computing the cosine similarity matrix...\n",
            "Done computing similarity matrix.\n",
            "Computing the cosine similarity matrix...\n",
            "Done computing similarity matrix.\n",
            "Computing the pearson similarity matrix...\n",
            "Done computing similarity matrix.\n",
            "Computing the pearson similarity matrix...\n",
            "Done computing similarity matrix.\n",
            "Computing the pearson similarity matrix...\n",
            "Done computing similarity matrix.\n",
            "Computing the pearson similarity matrix...\n",
            "Done computing similarity matrix.\n",
            "Computing the pearson similarity matrix...\n",
            "Done computing similarity matrix.\n",
            "Computing the pearson similarity matrix...\n",
            "Done computing similarity matrix.\n",
            "Computing the cosine similarity matrix...\n",
            "Done computing similarity matrix.\n",
            "Computing the cosine similarity matrix...\n",
            "Done computing similarity matrix.\n",
            "Computing the cosine similarity matrix...\n",
            "Done computing similarity matrix.\n",
            "Computing the cosine similarity matrix...\n",
            "Done computing similarity matrix.\n",
            "Computing the cosine similarity matrix...\n",
            "Done computing similarity matrix.\n",
            "Computing the cosine similarity matrix...\n",
            "Done computing similarity matrix.\n",
            "Computing the pearson similarity matrix...\n",
            "Done computing similarity matrix.\n",
            "Computing the pearson similarity matrix...\n",
            "Done computing similarity matrix.\n",
            "Computing the pearson similarity matrix...\n",
            "Done computing similarity matrix.\n",
            "Computing the pearson similarity matrix...\n",
            "Done computing similarity matrix.\n",
            "Computing the pearson similarity matrix...\n",
            "Done computing similarity matrix.\n",
            "Computing the pearson similarity matrix...\n",
            "Done computing similarity matrix.\n",
            "Mejores parámetros: {'rmse': {'k': 50, 'sim_options': {'name': 'pearson', 'user_based': False}}, 'mae': {'k': 50, 'sim_options': {'name': 'pearson', 'user_based': False}}, 'mse': {'k': 50, 'sim_options': {'name': 'pearson', 'user_based': False}}}\n",
            "Mejor RMSE: 0.9890900012606023\n",
            "Mejor MAE: 0.7647742508785976\n",
            "Mejor MSE: 0.978309506246161\n",
            "Computing the pearson similarity matrix...\n",
            "Done computing similarity matrix.\n",
            "R²: 0.5437478981618347\n",
            "MAPE: 23.012232792167538%\n"
          ]
        }
      ]
    },
    {
      "cell_type": "markdown",
      "source": [
        "## Filtros basados en contenido"
      ],
      "metadata": {
        "id": "8PkYgSufpFVf"
      }
    },
    {
      "cell_type": "code",
      "source": [
        "from sklearn.metrics.pairwise import cosine_similarity\n",
        "from sklearn.feature_extraction.text import TfidfVectorizer"
      ],
      "metadata": {
        "id": "G_aNlaYlF-Td"
      },
      "execution_count": null,
      "outputs": []
    },
    {
      "cell_type": "code",
      "source": [
        "movies_reduced = movies.head(20000)"
      ],
      "metadata": {
        "id": "wTei9m6ZNzjH"
      },
      "execution_count": null,
      "outputs": []
    },
    {
      "cell_type": "code",
      "source": [
        "tfidf = TfidfVectorizer(stop_words='english')\n",
        "genres_matrix = tfidf.fit_transform(movies_reduced['genres'])\n",
        "genres_matrix.shape"
      ],
      "metadata": {
        "colab": {
          "base_uri": "https://localhost:8080/"
        },
        "id": "3XhabUJ9F_qY",
        "outputId": "3d427b02-df5a-459e-f751-e959b19c7599"
      },
      "execution_count": null,
      "outputs": [
        {
          "output_type": "execute_result",
          "data": {
            "text/plain": [
              "(20000, 22)"
            ]
          },
          "metadata": {},
          "execution_count": 12
        }
      ]
    },
    {
      "cell_type": "code",
      "source": [
        "tfidf.vocabulary_"
      ],
      "metadata": {
        "colab": {
          "base_uri": "https://localhost:8080/"
        },
        "id": "UdumkVa0GAzN",
        "outputId": "b185d300-c66a-41b3-b148-9733710fb71e"
      },
      "execution_count": null,
      "outputs": [
        {
          "output_type": "execute_result",
          "data": {
            "text/plain": [
              "{'animation': 2,\n",
              " 'comedy': 3,\n",
              " 'family': 7,\n",
              " 'adventure': 1,\n",
              " 'fantasy': 8,\n",
              " 'romance': 16,\n",
              " 'drama': 6,\n",
              " 'action': 0,\n",
              " 'crime': 4,\n",
              " 'thriller': 18,\n",
              " 'horror': 12,\n",
              " 'history': 11,\n",
              " 'science': 17,\n",
              " 'fiction': 9,\n",
              " 'mystery': 15,\n",
              " 'war': 20,\n",
              " 'foreign': 10,\n",
              " 'music': 14,\n",
              " 'documentary': 5,\n",
              " 'western': 21,\n",
              " 'tv': 19,\n",
              " 'movie': 13}"
            ]
          },
          "metadata": {},
          "execution_count": 13
        }
      ]
    },
    {
      "cell_type": "code",
      "source": [
        "doc = 0\n",
        "feature_index = genres_matrix[doc,:].nonzero()[1]\n",
        "tfidf_scores = zip(feature_index, [genres_matrix[doc, x] for x in feature_index])"
      ],
      "metadata": {
        "id": "EhmEnLDkGCcr"
      },
      "execution_count": null,
      "outputs": []
    },
    {
      "cell_type": "code",
      "source": [
        "feature_names = tfidf.get_feature_names_out()\n",
        "tfidf_scores_sorted=[]\n",
        "for w, s in [(feature_names[i], s) for (i, s) in tfidf_scores]:\n",
        "    tfidf_scores_sorted.append([w,s])\n",
        "    print(w,s)\n",
        "tfidf_scores_sorted"
      ],
      "metadata": {
        "colab": {
          "base_uri": "https://localhost:8080/"
        },
        "id": "PPEEhnhMGELv",
        "outputId": "7268aae7-1157-45d4-833d-d4c7f7685b2d"
      },
      "execution_count": null,
      "outputs": [
        {
          "output_type": "stream",
          "name": "stdout",
          "text": [
            "animation 0.7178685753845186\n",
            "comedy 0.34459857274712663\n",
            "family 0.6049103504950507\n"
          ]
        },
        {
          "output_type": "execute_result",
          "data": {
            "text/plain": [
              "[['animation', 0.7178685753845186],\n",
              " ['comedy', 0.34459857274712663],\n",
              " ['family', 0.6049103504950507]]"
            ]
          },
          "metadata": {},
          "execution_count": 15
        }
      ]
    },
    {
      "cell_type": "code",
      "source": [
        "tfidf_scores_sorted_df=pd.DataFrame(tfidf_scores_sorted)\n",
        "tfidf_scores_sorted_df.columns=['token','val']\n",
        "tfidf_scores_sorted_df.sort_values(by='val',ascending=False,inplace=True)\n",
        "tfidf_scores_sorted_df.head(5)"
      ],
      "metadata": {
        "colab": {
          "base_uri": "https://localhost:8080/",
          "height": 143
        },
        "id": "8QQhaFNzGF29",
        "outputId": "52bf1af4-f370-45ce-8519-b105df49e4e6"
      },
      "execution_count": null,
      "outputs": [
        {
          "output_type": "execute_result",
          "data": {
            "text/plain": [
              "       token       val\n",
              "0  animation  0.717869\n",
              "2     family  0.604910\n",
              "1     comedy  0.344599"
            ],
            "text/html": [
              "\n",
              "  <div id=\"df-441b50b6-7dca-4282-81cd-d356736019cd\" class=\"colab-df-container\">\n",
              "    <div>\n",
              "<style scoped>\n",
              "    .dataframe tbody tr th:only-of-type {\n",
              "        vertical-align: middle;\n",
              "    }\n",
              "\n",
              "    .dataframe tbody tr th {\n",
              "        vertical-align: top;\n",
              "    }\n",
              "\n",
              "    .dataframe thead th {\n",
              "        text-align: right;\n",
              "    }\n",
              "</style>\n",
              "<table border=\"1\" class=\"dataframe\">\n",
              "  <thead>\n",
              "    <tr style=\"text-align: right;\">\n",
              "      <th></th>\n",
              "      <th>token</th>\n",
              "      <th>val</th>\n",
              "    </tr>\n",
              "  </thead>\n",
              "  <tbody>\n",
              "    <tr>\n",
              "      <th>0</th>\n",
              "      <td>animation</td>\n",
              "      <td>0.717869</td>\n",
              "    </tr>\n",
              "    <tr>\n",
              "      <th>2</th>\n",
              "      <td>family</td>\n",
              "      <td>0.604910</td>\n",
              "    </tr>\n",
              "    <tr>\n",
              "      <th>1</th>\n",
              "      <td>comedy</td>\n",
              "      <td>0.344599</td>\n",
              "    </tr>\n",
              "  </tbody>\n",
              "</table>\n",
              "</div>\n",
              "    <div class=\"colab-df-buttons\">\n",
              "\n",
              "  <div class=\"colab-df-container\">\n",
              "    <button class=\"colab-df-convert\" onclick=\"convertToInteractive('df-441b50b6-7dca-4282-81cd-d356736019cd')\"\n",
              "            title=\"Convert this dataframe to an interactive table.\"\n",
              "            style=\"display:none;\">\n",
              "\n",
              "  <svg xmlns=\"http://www.w3.org/2000/svg\" height=\"24px\" viewBox=\"0 -960 960 960\">\n",
              "    <path d=\"M120-120v-720h720v720H120Zm60-500h600v-160H180v160Zm220 220h160v-160H400v160Zm0 220h160v-160H400v160ZM180-400h160v-160H180v160Zm440 0h160v-160H620v160ZM180-180h160v-160H180v160Zm440 0h160v-160H620v160Z\"/>\n",
              "  </svg>\n",
              "    </button>\n",
              "\n",
              "  <style>\n",
              "    .colab-df-container {\n",
              "      display:flex;\n",
              "      gap: 12px;\n",
              "    }\n",
              "\n",
              "    .colab-df-convert {\n",
              "      background-color: #E8F0FE;\n",
              "      border: none;\n",
              "      border-radius: 50%;\n",
              "      cursor: pointer;\n",
              "      display: none;\n",
              "      fill: #1967D2;\n",
              "      height: 32px;\n",
              "      padding: 0 0 0 0;\n",
              "      width: 32px;\n",
              "    }\n",
              "\n",
              "    .colab-df-convert:hover {\n",
              "      background-color: #E2EBFA;\n",
              "      box-shadow: 0px 1px 2px rgba(60, 64, 67, 0.3), 0px 1px 3px 1px rgba(60, 64, 67, 0.15);\n",
              "      fill: #174EA6;\n",
              "    }\n",
              "\n",
              "    .colab-df-buttons div {\n",
              "      margin-bottom: 4px;\n",
              "    }\n",
              "\n",
              "    [theme=dark] .colab-df-convert {\n",
              "      background-color: #3B4455;\n",
              "      fill: #D2E3FC;\n",
              "    }\n",
              "\n",
              "    [theme=dark] .colab-df-convert:hover {\n",
              "      background-color: #434B5C;\n",
              "      box-shadow: 0px 1px 3px 1px rgba(0, 0, 0, 0.15);\n",
              "      filter: drop-shadow(0px 1px 2px rgba(0, 0, 0, 0.3));\n",
              "      fill: #FFFFFF;\n",
              "    }\n",
              "  </style>\n",
              "\n",
              "    <script>\n",
              "      const buttonEl =\n",
              "        document.querySelector('#df-441b50b6-7dca-4282-81cd-d356736019cd button.colab-df-convert');\n",
              "      buttonEl.style.display =\n",
              "        google.colab.kernel.accessAllowed ? 'block' : 'none';\n",
              "\n",
              "      async function convertToInteractive(key) {\n",
              "        const element = document.querySelector('#df-441b50b6-7dca-4282-81cd-d356736019cd');\n",
              "        const dataTable =\n",
              "          await google.colab.kernel.invokeFunction('convertToInteractive',\n",
              "                                                    [key], {});\n",
              "        if (!dataTable) return;\n",
              "\n",
              "        const docLinkHtml = 'Like what you see? Visit the ' +\n",
              "          '<a target=\"_blank\" href=https://colab.research.google.com/notebooks/data_table.ipynb>data table notebook</a>'\n",
              "          + ' to learn more about interactive tables.';\n",
              "        element.innerHTML = '';\n",
              "        dataTable['output_type'] = 'display_data';\n",
              "        await google.colab.output.renderOutput(dataTable, element);\n",
              "        const docLink = document.createElement('div');\n",
              "        docLink.innerHTML = docLinkHtml;\n",
              "        element.appendChild(docLink);\n",
              "      }\n",
              "    </script>\n",
              "  </div>\n",
              "\n",
              "\n",
              "<div id=\"df-dc489f83-d861-4b8d-8426-6c11e2e44f38\">\n",
              "  <button class=\"colab-df-quickchart\" onclick=\"quickchart('df-dc489f83-d861-4b8d-8426-6c11e2e44f38')\"\n",
              "            title=\"Suggest charts\"\n",
              "            style=\"display:none;\">\n",
              "\n",
              "<svg xmlns=\"http://www.w3.org/2000/svg\" height=\"24px\"viewBox=\"0 0 24 24\"\n",
              "     width=\"24px\">\n",
              "    <g>\n",
              "        <path d=\"M19 3H5c-1.1 0-2 .9-2 2v14c0 1.1.9 2 2 2h14c1.1 0 2-.9 2-2V5c0-1.1-.9-2-2-2zM9 17H7v-7h2v7zm4 0h-2V7h2v10zm4 0h-2v-4h2v4z\"/>\n",
              "    </g>\n",
              "</svg>\n",
              "  </button>\n",
              "\n",
              "<style>\n",
              "  .colab-df-quickchart {\n",
              "      --bg-color: #E8F0FE;\n",
              "      --fill-color: #1967D2;\n",
              "      --hover-bg-color: #E2EBFA;\n",
              "      --hover-fill-color: #174EA6;\n",
              "      --disabled-fill-color: #AAA;\n",
              "      --disabled-bg-color: #DDD;\n",
              "  }\n",
              "\n",
              "  [theme=dark] .colab-df-quickchart {\n",
              "      --bg-color: #3B4455;\n",
              "      --fill-color: #D2E3FC;\n",
              "      --hover-bg-color: #434B5C;\n",
              "      --hover-fill-color: #FFFFFF;\n",
              "      --disabled-bg-color: #3B4455;\n",
              "      --disabled-fill-color: #666;\n",
              "  }\n",
              "\n",
              "  .colab-df-quickchart {\n",
              "    background-color: var(--bg-color);\n",
              "    border: none;\n",
              "    border-radius: 50%;\n",
              "    cursor: pointer;\n",
              "    display: none;\n",
              "    fill: var(--fill-color);\n",
              "    height: 32px;\n",
              "    padding: 0;\n",
              "    width: 32px;\n",
              "  }\n",
              "\n",
              "  .colab-df-quickchart:hover {\n",
              "    background-color: var(--hover-bg-color);\n",
              "    box-shadow: 0 1px 2px rgba(60, 64, 67, 0.3), 0 1px 3px 1px rgba(60, 64, 67, 0.15);\n",
              "    fill: var(--button-hover-fill-color);\n",
              "  }\n",
              "\n",
              "  .colab-df-quickchart-complete:disabled,\n",
              "  .colab-df-quickchart-complete:disabled:hover {\n",
              "    background-color: var(--disabled-bg-color);\n",
              "    fill: var(--disabled-fill-color);\n",
              "    box-shadow: none;\n",
              "  }\n",
              "\n",
              "  .colab-df-spinner {\n",
              "    border: 2px solid var(--fill-color);\n",
              "    border-color: transparent;\n",
              "    border-bottom-color: var(--fill-color);\n",
              "    animation:\n",
              "      spin 1s steps(1) infinite;\n",
              "  }\n",
              "\n",
              "  @keyframes spin {\n",
              "    0% {\n",
              "      border-color: transparent;\n",
              "      border-bottom-color: var(--fill-color);\n",
              "      border-left-color: var(--fill-color);\n",
              "    }\n",
              "    20% {\n",
              "      border-color: transparent;\n",
              "      border-left-color: var(--fill-color);\n",
              "      border-top-color: var(--fill-color);\n",
              "    }\n",
              "    30% {\n",
              "      border-color: transparent;\n",
              "      border-left-color: var(--fill-color);\n",
              "      border-top-color: var(--fill-color);\n",
              "      border-right-color: var(--fill-color);\n",
              "    }\n",
              "    40% {\n",
              "      border-color: transparent;\n",
              "      border-right-color: var(--fill-color);\n",
              "      border-top-color: var(--fill-color);\n",
              "    }\n",
              "    60% {\n",
              "      border-color: transparent;\n",
              "      border-right-color: var(--fill-color);\n",
              "    }\n",
              "    80% {\n",
              "      border-color: transparent;\n",
              "      border-right-color: var(--fill-color);\n",
              "      border-bottom-color: var(--fill-color);\n",
              "    }\n",
              "    90% {\n",
              "      border-color: transparent;\n",
              "      border-bottom-color: var(--fill-color);\n",
              "    }\n",
              "  }\n",
              "</style>\n",
              "\n",
              "  <script>\n",
              "    async function quickchart(key) {\n",
              "      const quickchartButtonEl =\n",
              "        document.querySelector('#' + key + ' button');\n",
              "      quickchartButtonEl.disabled = true;  // To prevent multiple clicks.\n",
              "      quickchartButtonEl.classList.add('colab-df-spinner');\n",
              "      try {\n",
              "        const charts = await google.colab.kernel.invokeFunction(\n",
              "            'suggestCharts', [key], {});\n",
              "      } catch (error) {\n",
              "        console.error('Error during call to suggestCharts:', error);\n",
              "      }\n",
              "      quickchartButtonEl.classList.remove('colab-df-spinner');\n",
              "      quickchartButtonEl.classList.add('colab-df-quickchart-complete');\n",
              "    }\n",
              "    (() => {\n",
              "      let quickchartButtonEl =\n",
              "        document.querySelector('#df-dc489f83-d861-4b8d-8426-6c11e2e44f38 button');\n",
              "      quickchartButtonEl.style.display =\n",
              "        google.colab.kernel.accessAllowed ? 'block' : 'none';\n",
              "    })();\n",
              "  </script>\n",
              "</div>\n",
              "\n",
              "    </div>\n",
              "  </div>\n"
            ],
            "application/vnd.google.colaboratory.intrinsic+json": {
              "type": "dataframe",
              "variable_name": "tfidf_scores_sorted_df",
              "summary": "{\n  \"name\": \"tfidf_scores_sorted_df\",\n  \"rows\": 3,\n  \"fields\": [\n    {\n      \"column\": \"token\",\n      \"properties\": {\n        \"dtype\": \"string\",\n        \"num_unique_values\": 3,\n        \"samples\": [\n          \"animation\",\n          \"family\",\n          \"comedy\"\n        ],\n        \"semantic_type\": \"\",\n        \"description\": \"\"\n      }\n    },\n    {\n      \"column\": \"val\",\n      \"properties\": {\n        \"dtype\": \"number\",\n        \"std\": 0.19142112260379507,\n        \"min\": 0.34459857274712663,\n        \"max\": 0.7178685753845186,\n        \"num_unique_values\": 3,\n        \"samples\": [\n          0.7178685753845186,\n          0.6049103504950507,\n          0.34459857274712663\n        ],\n        \"semantic_type\": \"\",\n        \"description\": \"\"\n      }\n    }\n  ]\n}"
            }
          },
          "metadata": {},
          "execution_count": 16
        }
      ]
    },
    {
      "cell_type": "code",
      "source": [
        "similarity_matrix = cosine_similarity(genres_matrix, genres_matrix) #Similitud coseno"
      ],
      "metadata": {
        "id": "16FQPA86MPBd"
      },
      "execution_count": null,
      "outputs": []
    },
    {
      "cell_type": "code",
      "source": [
        "def recommend_movie_based_on_genre(movie_input,n=10):\n",
        "  movie_index = movies_reduced.loc[movies_reduced.title==movie_input,:].index[0]\n",
        "\n",
        "  similarity_score = list(enumerate(similarity_matrix[movie_index-1]))\n",
        "  similarity_score = sorted(similarity_score, key=lambda x: x[1], reverse=True)\n",
        "  similarity_score = similarity_score[1:n]\n",
        "\n",
        "  movie_indices = [i[0] for i in similarity_score]\n",
        "\n",
        "  return (movies_reduced[['id','title','genres']].iloc[movie_indices])"
      ],
      "metadata": {
        "id": "YSBgC8U0MDgb"
      },
      "execution_count": null,
      "outputs": []
    },
    {
      "cell_type": "code",
      "source": [
        "recommend_movie_based_on_genre('Jumanji')"
      ],
      "metadata": {
        "colab": {
          "base_uri": "https://localhost:8080/",
          "height": 332
        },
        "id": "ZeG34mJDMFuk",
        "outputId": "d31a83dc-9687-46f9-a7d2-462b87e06d91"
      },
      "execution_count": null,
      "outputs": [
        {
          "output_type": "execute_result",
          "data": {
            "text/plain": [
              "         id                      title                     genres\n",
              "695   12233           Oliver & Company  Animation, Comedy, Family\n",
              "727     532              A Close Shave  Family, Animation, Comedy\n",
              "1110    531         The Wrong Trousers  Animation, Comedy, Family\n",
              "1718  40688           Meet the Deedles  Animation, Comedy, Family\n",
              "1939   9994  The Great Mouse Detective  Comedy, Animation, Family\n",
              "2453  16508           Doug's 1st Movie  Animation, Family, Comedy\n",
              "2997    863                Toy Story 2  Animation, Comedy, Family\n",
              "3309  54825          Creature Comforts  Animation, Comedy, Family\n",
              "3629   7443                Chicken Run  Animation, Comedy, Family"
            ],
            "text/html": [
              "\n",
              "  <div id=\"df-79a4101b-8e1e-498f-b93f-cb580c63256b\" class=\"colab-df-container\">\n",
              "    <div>\n",
              "<style scoped>\n",
              "    .dataframe tbody tr th:only-of-type {\n",
              "        vertical-align: middle;\n",
              "    }\n",
              "\n",
              "    .dataframe tbody tr th {\n",
              "        vertical-align: top;\n",
              "    }\n",
              "\n",
              "    .dataframe thead th {\n",
              "        text-align: right;\n",
              "    }\n",
              "</style>\n",
              "<table border=\"1\" class=\"dataframe\">\n",
              "  <thead>\n",
              "    <tr style=\"text-align: right;\">\n",
              "      <th></th>\n",
              "      <th>id</th>\n",
              "      <th>title</th>\n",
              "      <th>genres</th>\n",
              "    </tr>\n",
              "  </thead>\n",
              "  <tbody>\n",
              "    <tr>\n",
              "      <th>695</th>\n",
              "      <td>12233</td>\n",
              "      <td>Oliver &amp; Company</td>\n",
              "      <td>Animation, Comedy, Family</td>\n",
              "    </tr>\n",
              "    <tr>\n",
              "      <th>727</th>\n",
              "      <td>532</td>\n",
              "      <td>A Close Shave</td>\n",
              "      <td>Family, Animation, Comedy</td>\n",
              "    </tr>\n",
              "    <tr>\n",
              "      <th>1110</th>\n",
              "      <td>531</td>\n",
              "      <td>The Wrong Trousers</td>\n",
              "      <td>Animation, Comedy, Family</td>\n",
              "    </tr>\n",
              "    <tr>\n",
              "      <th>1718</th>\n",
              "      <td>40688</td>\n",
              "      <td>Meet the Deedles</td>\n",
              "      <td>Animation, Comedy, Family</td>\n",
              "    </tr>\n",
              "    <tr>\n",
              "      <th>1939</th>\n",
              "      <td>9994</td>\n",
              "      <td>The Great Mouse Detective</td>\n",
              "      <td>Comedy, Animation, Family</td>\n",
              "    </tr>\n",
              "    <tr>\n",
              "      <th>2453</th>\n",
              "      <td>16508</td>\n",
              "      <td>Doug's 1st Movie</td>\n",
              "      <td>Animation, Family, Comedy</td>\n",
              "    </tr>\n",
              "    <tr>\n",
              "      <th>2997</th>\n",
              "      <td>863</td>\n",
              "      <td>Toy Story 2</td>\n",
              "      <td>Animation, Comedy, Family</td>\n",
              "    </tr>\n",
              "    <tr>\n",
              "      <th>3309</th>\n",
              "      <td>54825</td>\n",
              "      <td>Creature Comforts</td>\n",
              "      <td>Animation, Comedy, Family</td>\n",
              "    </tr>\n",
              "    <tr>\n",
              "      <th>3629</th>\n",
              "      <td>7443</td>\n",
              "      <td>Chicken Run</td>\n",
              "      <td>Animation, Comedy, Family</td>\n",
              "    </tr>\n",
              "  </tbody>\n",
              "</table>\n",
              "</div>\n",
              "    <div class=\"colab-df-buttons\">\n",
              "\n",
              "  <div class=\"colab-df-container\">\n",
              "    <button class=\"colab-df-convert\" onclick=\"convertToInteractive('df-79a4101b-8e1e-498f-b93f-cb580c63256b')\"\n",
              "            title=\"Convert this dataframe to an interactive table.\"\n",
              "            style=\"display:none;\">\n",
              "\n",
              "  <svg xmlns=\"http://www.w3.org/2000/svg\" height=\"24px\" viewBox=\"0 -960 960 960\">\n",
              "    <path d=\"M120-120v-720h720v720H120Zm60-500h600v-160H180v160Zm220 220h160v-160H400v160Zm0 220h160v-160H400v160ZM180-400h160v-160H180v160Zm440 0h160v-160H620v160ZM180-180h160v-160H180v160Zm440 0h160v-160H620v160Z\"/>\n",
              "  </svg>\n",
              "    </button>\n",
              "\n",
              "  <style>\n",
              "    .colab-df-container {\n",
              "      display:flex;\n",
              "      gap: 12px;\n",
              "    }\n",
              "\n",
              "    .colab-df-convert {\n",
              "      background-color: #E8F0FE;\n",
              "      border: none;\n",
              "      border-radius: 50%;\n",
              "      cursor: pointer;\n",
              "      display: none;\n",
              "      fill: #1967D2;\n",
              "      height: 32px;\n",
              "      padding: 0 0 0 0;\n",
              "      width: 32px;\n",
              "    }\n",
              "\n",
              "    .colab-df-convert:hover {\n",
              "      background-color: #E2EBFA;\n",
              "      box-shadow: 0px 1px 2px rgba(60, 64, 67, 0.3), 0px 1px 3px 1px rgba(60, 64, 67, 0.15);\n",
              "      fill: #174EA6;\n",
              "    }\n",
              "\n",
              "    .colab-df-buttons div {\n",
              "      margin-bottom: 4px;\n",
              "    }\n",
              "\n",
              "    [theme=dark] .colab-df-convert {\n",
              "      background-color: #3B4455;\n",
              "      fill: #D2E3FC;\n",
              "    }\n",
              "\n",
              "    [theme=dark] .colab-df-convert:hover {\n",
              "      background-color: #434B5C;\n",
              "      box-shadow: 0px 1px 3px 1px rgba(0, 0, 0, 0.15);\n",
              "      filter: drop-shadow(0px 1px 2px rgba(0, 0, 0, 0.3));\n",
              "      fill: #FFFFFF;\n",
              "    }\n",
              "  </style>\n",
              "\n",
              "    <script>\n",
              "      const buttonEl =\n",
              "        document.querySelector('#df-79a4101b-8e1e-498f-b93f-cb580c63256b button.colab-df-convert');\n",
              "      buttonEl.style.display =\n",
              "        google.colab.kernel.accessAllowed ? 'block' : 'none';\n",
              "\n",
              "      async function convertToInteractive(key) {\n",
              "        const element = document.querySelector('#df-79a4101b-8e1e-498f-b93f-cb580c63256b');\n",
              "        const dataTable =\n",
              "          await google.colab.kernel.invokeFunction('convertToInteractive',\n",
              "                                                    [key], {});\n",
              "        if (!dataTable) return;\n",
              "\n",
              "        const docLinkHtml = 'Like what you see? Visit the ' +\n",
              "          '<a target=\"_blank\" href=https://colab.research.google.com/notebooks/data_table.ipynb>data table notebook</a>'\n",
              "          + ' to learn more about interactive tables.';\n",
              "        element.innerHTML = '';\n",
              "        dataTable['output_type'] = 'display_data';\n",
              "        await google.colab.output.renderOutput(dataTable, element);\n",
              "        const docLink = document.createElement('div');\n",
              "        docLink.innerHTML = docLinkHtml;\n",
              "        element.appendChild(docLink);\n",
              "      }\n",
              "    </script>\n",
              "  </div>\n",
              "\n",
              "\n",
              "<div id=\"df-ced68b99-9e40-462a-add7-b0918e3d51cf\">\n",
              "  <button class=\"colab-df-quickchart\" onclick=\"quickchart('df-ced68b99-9e40-462a-add7-b0918e3d51cf')\"\n",
              "            title=\"Suggest charts\"\n",
              "            style=\"display:none;\">\n",
              "\n",
              "<svg xmlns=\"http://www.w3.org/2000/svg\" height=\"24px\"viewBox=\"0 0 24 24\"\n",
              "     width=\"24px\">\n",
              "    <g>\n",
              "        <path d=\"M19 3H5c-1.1 0-2 .9-2 2v14c0 1.1.9 2 2 2h14c1.1 0 2-.9 2-2V5c0-1.1-.9-2-2-2zM9 17H7v-7h2v7zm4 0h-2V7h2v10zm4 0h-2v-4h2v4z\"/>\n",
              "    </g>\n",
              "</svg>\n",
              "  </button>\n",
              "\n",
              "<style>\n",
              "  .colab-df-quickchart {\n",
              "      --bg-color: #E8F0FE;\n",
              "      --fill-color: #1967D2;\n",
              "      --hover-bg-color: #E2EBFA;\n",
              "      --hover-fill-color: #174EA6;\n",
              "      --disabled-fill-color: #AAA;\n",
              "      --disabled-bg-color: #DDD;\n",
              "  }\n",
              "\n",
              "  [theme=dark] .colab-df-quickchart {\n",
              "      --bg-color: #3B4455;\n",
              "      --fill-color: #D2E3FC;\n",
              "      --hover-bg-color: #434B5C;\n",
              "      --hover-fill-color: #FFFFFF;\n",
              "      --disabled-bg-color: #3B4455;\n",
              "      --disabled-fill-color: #666;\n",
              "  }\n",
              "\n",
              "  .colab-df-quickchart {\n",
              "    background-color: var(--bg-color);\n",
              "    border: none;\n",
              "    border-radius: 50%;\n",
              "    cursor: pointer;\n",
              "    display: none;\n",
              "    fill: var(--fill-color);\n",
              "    height: 32px;\n",
              "    padding: 0;\n",
              "    width: 32px;\n",
              "  }\n",
              "\n",
              "  .colab-df-quickchart:hover {\n",
              "    background-color: var(--hover-bg-color);\n",
              "    box-shadow: 0 1px 2px rgba(60, 64, 67, 0.3), 0 1px 3px 1px rgba(60, 64, 67, 0.15);\n",
              "    fill: var(--button-hover-fill-color);\n",
              "  }\n",
              "\n",
              "  .colab-df-quickchart-complete:disabled,\n",
              "  .colab-df-quickchart-complete:disabled:hover {\n",
              "    background-color: var(--disabled-bg-color);\n",
              "    fill: var(--disabled-fill-color);\n",
              "    box-shadow: none;\n",
              "  }\n",
              "\n",
              "  .colab-df-spinner {\n",
              "    border: 2px solid var(--fill-color);\n",
              "    border-color: transparent;\n",
              "    border-bottom-color: var(--fill-color);\n",
              "    animation:\n",
              "      spin 1s steps(1) infinite;\n",
              "  }\n",
              "\n",
              "  @keyframes spin {\n",
              "    0% {\n",
              "      border-color: transparent;\n",
              "      border-bottom-color: var(--fill-color);\n",
              "      border-left-color: var(--fill-color);\n",
              "    }\n",
              "    20% {\n",
              "      border-color: transparent;\n",
              "      border-left-color: var(--fill-color);\n",
              "      border-top-color: var(--fill-color);\n",
              "    }\n",
              "    30% {\n",
              "      border-color: transparent;\n",
              "      border-left-color: var(--fill-color);\n",
              "      border-top-color: var(--fill-color);\n",
              "      border-right-color: var(--fill-color);\n",
              "    }\n",
              "    40% {\n",
              "      border-color: transparent;\n",
              "      border-right-color: var(--fill-color);\n",
              "      border-top-color: var(--fill-color);\n",
              "    }\n",
              "    60% {\n",
              "      border-color: transparent;\n",
              "      border-right-color: var(--fill-color);\n",
              "    }\n",
              "    80% {\n",
              "      border-color: transparent;\n",
              "      border-right-color: var(--fill-color);\n",
              "      border-bottom-color: var(--fill-color);\n",
              "    }\n",
              "    90% {\n",
              "      border-color: transparent;\n",
              "      border-bottom-color: var(--fill-color);\n",
              "    }\n",
              "  }\n",
              "</style>\n",
              "\n",
              "  <script>\n",
              "    async function quickchart(key) {\n",
              "      const quickchartButtonEl =\n",
              "        document.querySelector('#' + key + ' button');\n",
              "      quickchartButtonEl.disabled = true;  // To prevent multiple clicks.\n",
              "      quickchartButtonEl.classList.add('colab-df-spinner');\n",
              "      try {\n",
              "        const charts = await google.colab.kernel.invokeFunction(\n",
              "            'suggestCharts', [key], {});\n",
              "      } catch (error) {\n",
              "        console.error('Error during call to suggestCharts:', error);\n",
              "      }\n",
              "      quickchartButtonEl.classList.remove('colab-df-spinner');\n",
              "      quickchartButtonEl.classList.add('colab-df-quickchart-complete');\n",
              "    }\n",
              "    (() => {\n",
              "      let quickchartButtonEl =\n",
              "        document.querySelector('#df-ced68b99-9e40-462a-add7-b0918e3d51cf button');\n",
              "      quickchartButtonEl.style.display =\n",
              "        google.colab.kernel.accessAllowed ? 'block' : 'none';\n",
              "    })();\n",
              "  </script>\n",
              "</div>\n",
              "\n",
              "    </div>\n",
              "  </div>\n"
            ],
            "application/vnd.google.colaboratory.intrinsic+json": {
              "type": "dataframe",
              "summary": "{\n  \"name\": \"recommend_movie_based_on_genre('Jumanji')\",\n  \"rows\": 9,\n  \"fields\": [\n    {\n      \"column\": \"id\",\n      \"properties\": {\n        \"dtype\": \"number\",\n        \"std\": 19197,\n        \"min\": 531,\n        \"max\": 54825,\n        \"num_unique_values\": 9,\n        \"samples\": [\n          54825,\n          532,\n          16508\n        ],\n        \"semantic_type\": \"\",\n        \"description\": \"\"\n      }\n    },\n    {\n      \"column\": \"title\",\n      \"properties\": {\n        \"dtype\": \"string\",\n        \"num_unique_values\": 9,\n        \"samples\": [\n          \"Creature Comforts\",\n          \"A Close Shave\",\n          \"Doug's 1st Movie\"\n        ],\n        \"semantic_type\": \"\",\n        \"description\": \"\"\n      }\n    },\n    {\n      \"column\": \"genres\",\n      \"properties\": {\n        \"dtype\": \"category\",\n        \"num_unique_values\": 4,\n        \"samples\": [\n          \"Family, Animation, Comedy\",\n          \"Animation, Family, Comedy\",\n          \"Animation, Comedy, Family\"\n        ],\n        \"semantic_type\": \"\",\n        \"description\": \"\"\n      }\n    }\n  ]\n}"
            }
          },
          "metadata": {},
          "execution_count": 19
        }
      ]
    },
    {
      "cell_type": "code",
      "source": [
        "# users['movieId'] = users['movieId'].astype(str)\n",
        "# movies['id'] = movies['id'].astype(str)\n",
        "# import pandas as pd\n",
        "# movies['id'] = movies['id'].astype(str)\n",
        "# users['movieId'] = users['movieId'].astype(str)\n",
        "# missing_ids = users[users['movieId'].isin(movies['id'])]\n",
        "# #print(missing_ids)\n",
        "# users = users[~users['movieId'].isin(missing_ids)]"
      ],
      "metadata": {
        "id": "W2MLy3Lnnpr6"
      },
      "execution_count": null,
      "outputs": []
    },
    {
      "cell_type": "code",
      "source": [
        "# users.shape"
      ],
      "metadata": {
        "colab": {
          "base_uri": "https://localhost:8080/"
        },
        "id": "mj7fIbSTotm6",
        "outputId": "d930ed64-545b-417b-f312-728c12faf073"
      },
      "execution_count": null,
      "outputs": [
        {
          "output_type": "execute_result",
          "data": {
            "text/plain": [
              "(100004, 3)"
            ]
          },
          "metadata": {},
          "execution_count": 41
        }
      ]
    },
    {
      "cell_type": "code",
      "source": [
        "# def evaluate_recommendations(movies_reduced, similarity_matrix, user_ratings, threshold=4, n=10):\n",
        "#     precision_list = []\n",
        "#     recall_list = []\n",
        "\n",
        "#     # Crear una lista de usuarios únicos\n",
        "#     users = user_ratings['userId'].unique()\n",
        "\n",
        "#     for user in users:\n",
        "#         # Películas relevantes para el usuario (ground truth)\n",
        "#         relevant_movies = user_ratings[\n",
        "#             (user_ratings['userId'] == user) & (user_ratings['rating'] >= threshold)\n",
        "#         ]['movieId'].values\n",
        "\n",
        "#         if len(relevant_movies) == 0:\n",
        "#             continue  # Saltar usuarios sin películas relevantes\n",
        "\n",
        "#         # Iterar sobre las películas relevantes del usuario\n",
        "#         for movie_input in relevant_movies:\n",
        "#             if movie_input not in movies['id'].values:\n",
        "#                 print(f\"Película con ID {movie_input} no encontrada en el conjunto reducido. Pasando a la siguiente...\")\n",
        "#                 continue\n",
        "\n",
        "#             # Obtener el índice relativo al conjunto reducido\n",
        "#             movie_index = movies[movies['id'] == movie_input].index[0]\n",
        "\n",
        "#             # Calcular similitudes y recomendaciones\n",
        "#             similarity_score = list(enumerate(similarity_matrix[movie_index]))\n",
        "#             similarity_score = sorted(similarity_score, key=lambda x: x[1], reverse=True)\n",
        "#             recommended_indices = [i[0] for i in similarity_score[1:n+1]]  # Top-N recomendaciones\n",
        "\n",
        "#             # Obtener IDs de las películas recomendadas\n",
        "#             recommended_movies = movies.iloc[recommended_indices]['id'].values\n",
        "\n",
        "#             # Calcular True Positives (intersección entre relevantes y recomendados)\n",
        "#             true_positives = len(set(recommended_movies) & set(relevant_movies))\n",
        "\n",
        "#             # Calcular precisión y recall\n",
        "#             precision = true_positives / len(recommended_movies) if len(recommended_movies) > 0 else 0\n",
        "#             recall = true_positives / len(relevant_movies) if len(relevant_movies) > 0 else 0\n",
        "\n",
        "#             # Guardar resultados\n",
        "#             precision_list.append(precision)\n",
        "#             recall_list.append(recall)\n",
        "\n",
        "#     # Promediar métricas para todos los usuarios\n",
        "#     avg_precision = np.mean(precision_list) if precision_list else 0\n",
        "#     avg_recall = np.mean(recall_list) if recall_list else 0\n",
        "\n",
        "#     return {\n",
        "#         'precision': avg_precision,\n",
        "#         'recall': avg_recall}\n",
        "\n",
        "# metrics = evaluate_recommendations(movies, similarity_matrix, users)\n",
        "# print(\"Precision:\", metrics['precision'])\n",
        "# print(\"Recall:\", metrics['recall'])"
      ],
      "metadata": {
        "colab": {
          "base_uri": "https://localhost:8080/",
          "height": 1000
        },
        "id": "R2IWTmwcmN0t",
        "outputId": "31fde017-431a-42bb-88f8-c328e8cd4076"
      },
      "execution_count": null,
      "outputs": [
        {
          "output_type": "stream",
          "name": "stdout",
          "text": [
            "Película con ID 1172 no encontrada en el conjunto reducido. Pasando a la siguiente...\n",
            "Película con ID 1953 no encontrada en el conjunto reducido. Pasando a la siguiente...\n",
            "Película con ID 10 no encontrada en el conjunto reducido. Pasando a la siguiente...\n",
            "Película con ID 39 no encontrada en el conjunto reducido. Pasando a la siguiente...\n",
            "Película con ID 47 no encontrada en el conjunto reducido. Pasando a la siguiente...\n",
            "Película con ID 50 no encontrada en el conjunto reducido. Pasando a la siguiente...\n",
            "Película con ID 515 no encontrada en el conjunto reducido. Pasando a la siguiente...\n",
            "Película con ID 589 no encontrada en el conjunto reducido. Pasando a la siguiente...\n",
            "Película con ID 720 no encontrada en el conjunto reducido. Pasando a la siguiente...\n",
            "Película con ID 356 no encontrada en el conjunto reducido. Pasando a la siguiente...\n",
            "Película con ID 1197 no encontrada en el conjunto reducido. Pasando a la siguiente...\n",
            "Película con ID 1235 no encontrada en el conjunto reducido. Pasando a la siguiente...\n",
            "Película con ID 2318 no encontrada en el conjunto reducido. Pasando a la siguiente...\n",
            "Película con ID 2858 no encontrada en el conjunto reducido. Pasando a la siguiente...\n",
            "Película con ID 3510 no encontrada en el conjunto reducido. Pasando a la siguiente...\n",
            "Película con ID 3949 no encontrada en el conjunto reducido. Pasando a la siguiente...\n",
            "Película con ID 48783 no encontrada en el conjunto reducido. Pasando a la siguiente...\n",
            "Película con ID 50068 no encontrada en el conjunto reducido. Pasando a la siguiente...\n",
            "Película con ID 84236 no encontrada en el conjunto reducido. Pasando a la siguiente...\n",
            "Película con ID 10 no encontrada en el conjunto reducido. Pasando a la siguiente...\n",
            "Película con ID 34 no encontrada en el conjunto reducido. Pasando a la siguiente...\n",
            "Película con ID 356 no encontrada en el conjunto reducido. Pasando a la siguiente...\n",
            "Película con ID 357 no encontrada en el conjunto reducido. Pasando a la siguiente...\n",
            "Película con ID 367 no encontrada en el conjunto reducido. Pasando a la siguiente...\n",
            "Película con ID 589 no encontrada en el conjunto reducido. Pasando a la siguiente...\n",
            "Película con ID 610 no encontrada en el conjunto reducido. Pasando a la siguiente...\n",
            "Película con ID 1011 no encontrada en el conjunto reducido. Pasando a la siguiente...\n",
            "Película con ID 1016 no encontrada en el conjunto reducido. Pasando a la siguiente...\n",
            "Película con ID 1022 no encontrada en el conjunto reducido. Pasando a la siguiente...\n",
            "Película con ID 1028 no encontrada en el conjunto reducido. Pasando a la siguiente...\n",
            "Película con ID 1030 no encontrada en el conjunto reducido. Pasando a la siguiente...\n",
            "Película con ID 1031 no encontrada en el conjunto reducido. Pasando a la siguiente...\n",
            "Película con ID 1032 no encontrada en el conjunto reducido. Pasando a la siguiente...\n",
            "Película con ID 1033 no encontrada en el conjunto reducido. Pasando a la siguiente...\n",
            "Película con ID 1036 no encontrada en el conjunto reducido. Pasando a la siguiente...\n",
            "Película con ID 1079 no encontrada en el conjunto reducido. Pasando a la siguiente...\n",
            "Película con ID 1097 no encontrada en el conjunto reducido. Pasando a la siguiente...\n",
            "Película con ID 1136 no encontrada en el conjunto reducido. Pasando a la siguiente...\n",
            "Película con ID 1194 no encontrada en el conjunto reducido. Pasando a la siguiente...\n",
            "Película con ID 1196 no encontrada en el conjunto reducido. Pasando a la siguiente...\n",
            "Película con ID 1197 no encontrada en el conjunto reducido. Pasando a la siguiente...\n",
            "Película con ID 1198 no encontrada en el conjunto reducido. Pasando a la siguiente...\n",
            "Película con ID 1200 no encontrada en el conjunto reducido. Pasando a la siguiente...\n",
            "Película con ID 1206 no encontrada en el conjunto reducido. Pasando a la siguiente...\n",
            "Película con ID 1208 no encontrada en el conjunto reducido. Pasando a la siguiente...\n",
            "Película con ID 1210 no encontrada en el conjunto reducido. Pasando a la siguiente...\n",
            "Película con ID 1214 no encontrada en el conjunto reducido. Pasando a la siguiente...\n",
            "Película con ID 1219 no encontrada en el conjunto reducido. Pasando a la siguiente...\n",
            "Película con ID 1220 no encontrada en el conjunto reducido. Pasando a la siguiente...\n",
            "Película con ID 1222 no encontrada en el conjunto reducido. Pasando a la siguiente...\n",
            "Película con ID 1225 no encontrada en el conjunto reducido. Pasando a la siguiente...\n",
            "Película con ID 1230 no encontrada en el conjunto reducido. Pasando a la siguiente...\n",
            "Película con ID 1240 no encontrada en el conjunto reducido. Pasando a la siguiente...\n",
            "Película con ID 1243 no encontrada en el conjunto reducido. Pasando a la siguiente...\n",
            "Película con ID 1258 no encontrada en el conjunto reducido. Pasando a la siguiente...\n",
            "Película con ID 1270 no encontrada en el conjunto reducido. Pasando a la siguiente...\n"
          ]
        },
        {
          "output_type": "error",
          "ename": "IndexError",
          "evalue": "index 24283 is out of bounds for axis 0 with size 20000",
          "traceback": [
            "\u001b[0;31m---------------------------------------------------------------------------\u001b[0m",
            "\u001b[0;31mIndexError\u001b[0m                                Traceback (most recent call last)",
            "\u001b[0;32m<ipython-input-34-03f481f3e544>\u001b[0m in \u001b[0;36m<cell line: 53>\u001b[0;34m()\u001b[0m\n\u001b[1;32m     51\u001b[0m         'recall': avg_recall}\n\u001b[1;32m     52\u001b[0m \u001b[0;34m\u001b[0m\u001b[0m\n\u001b[0;32m---> 53\u001b[0;31m \u001b[0mmetrics\u001b[0m \u001b[0;34m=\u001b[0m \u001b[0mevaluate_recommendations\u001b[0m\u001b[0;34m(\u001b[0m\u001b[0mmovies\u001b[0m\u001b[0;34m,\u001b[0m \u001b[0msimilarity_matrix\u001b[0m\u001b[0;34m,\u001b[0m \u001b[0musers\u001b[0m\u001b[0;34m)\u001b[0m\u001b[0;34m\u001b[0m\u001b[0;34m\u001b[0m\u001b[0m\n\u001b[0m\u001b[1;32m     54\u001b[0m \u001b[0mprint\u001b[0m\u001b[0;34m(\u001b[0m\u001b[0;34m\"Precision:\"\u001b[0m\u001b[0;34m,\u001b[0m \u001b[0mmetrics\u001b[0m\u001b[0;34m[\u001b[0m\u001b[0;34m'precision'\u001b[0m\u001b[0;34m]\u001b[0m\u001b[0;34m)\u001b[0m\u001b[0;34m\u001b[0m\u001b[0;34m\u001b[0m\u001b[0m\n\u001b[1;32m     55\u001b[0m \u001b[0mprint\u001b[0m\u001b[0;34m(\u001b[0m\u001b[0;34m\"Recall:\"\u001b[0m\u001b[0;34m,\u001b[0m \u001b[0mmetrics\u001b[0m\u001b[0;34m[\u001b[0m\u001b[0;34m'recall'\u001b[0m\u001b[0;34m]\u001b[0m\u001b[0;34m)\u001b[0m\u001b[0;34m\u001b[0m\u001b[0;34m\u001b[0m\u001b[0m\n",
            "\u001b[0;32m<ipython-input-34-03f481f3e544>\u001b[0m in \u001b[0;36mevaluate_recommendations\u001b[0;34m(movies_reduced, similarity_matrix, user_ratings, threshold, n)\u001b[0m\n\u001b[1;32m     25\u001b[0m \u001b[0;34m\u001b[0m\u001b[0m\n\u001b[1;32m     26\u001b[0m             \u001b[0;31m# Calcular similitudes y recomendaciones\u001b[0m\u001b[0;34m\u001b[0m\u001b[0;34m\u001b[0m\u001b[0m\n\u001b[0;32m---> 27\u001b[0;31m             \u001b[0msimilarity_score\u001b[0m \u001b[0;34m=\u001b[0m \u001b[0mlist\u001b[0m\u001b[0;34m(\u001b[0m\u001b[0menumerate\u001b[0m\u001b[0;34m(\u001b[0m\u001b[0msimilarity_matrix\u001b[0m\u001b[0;34m[\u001b[0m\u001b[0mmovie_index\u001b[0m\u001b[0;34m]\u001b[0m\u001b[0;34m)\u001b[0m\u001b[0;34m)\u001b[0m\u001b[0;34m\u001b[0m\u001b[0;34m\u001b[0m\u001b[0m\n\u001b[0m\u001b[1;32m     28\u001b[0m             \u001b[0msimilarity_score\u001b[0m \u001b[0;34m=\u001b[0m \u001b[0msorted\u001b[0m\u001b[0;34m(\u001b[0m\u001b[0msimilarity_score\u001b[0m\u001b[0;34m,\u001b[0m \u001b[0mkey\u001b[0m\u001b[0;34m=\u001b[0m\u001b[0;32mlambda\u001b[0m \u001b[0mx\u001b[0m\u001b[0;34m:\u001b[0m \u001b[0mx\u001b[0m\u001b[0;34m[\u001b[0m\u001b[0;36m1\u001b[0m\u001b[0;34m]\u001b[0m\u001b[0;34m,\u001b[0m \u001b[0mreverse\u001b[0m\u001b[0;34m=\u001b[0m\u001b[0;32mTrue\u001b[0m\u001b[0;34m)\u001b[0m\u001b[0;34m\u001b[0m\u001b[0;34m\u001b[0m\u001b[0m\n\u001b[1;32m     29\u001b[0m             \u001b[0mrecommended_indices\u001b[0m \u001b[0;34m=\u001b[0m \u001b[0;34m[\u001b[0m\u001b[0mi\u001b[0m\u001b[0;34m[\u001b[0m\u001b[0;36m0\u001b[0m\u001b[0;34m]\u001b[0m \u001b[0;32mfor\u001b[0m \u001b[0mi\u001b[0m \u001b[0;32min\u001b[0m \u001b[0msimilarity_score\u001b[0m\u001b[0;34m[\u001b[0m\u001b[0;36m1\u001b[0m\u001b[0;34m:\u001b[0m\u001b[0mn\u001b[0m\u001b[0;34m+\u001b[0m\u001b[0;36m1\u001b[0m\u001b[0;34m]\u001b[0m\u001b[0;34m]\u001b[0m  \u001b[0;31m# Top-N recomendaciones\u001b[0m\u001b[0;34m\u001b[0m\u001b[0;34m\u001b[0m\u001b[0m\n",
            "\u001b[0;31mIndexError\u001b[0m: index 24283 is out of bounds for axis 0 with size 20000"
          ]
        }
      ]
    }
  ]
}